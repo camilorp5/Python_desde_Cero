{
  "nbformat": 4,
  "nbformat_minor": 0,
  "metadata": {
    "colab": {
      "provenance": [],
      "collapsed_sections": [
        "8-Sxpyt8Wo-1",
        "NrmHhCNoWoLu"
      ]
    },
    "kernelspec": {
      "name": "python3",
      "display_name": "Python 3"
    },
    "language_info": {
      "name": "python"
    }
  },
  "cells": [
    {
      "cell_type": "markdown",
      "source": [
        "# Proyecto #2\n"
      ],
      "metadata": {
        "id": "8-Sxpyt8Wo-1"
      }
    },
    {
      "cell_type": "code",
      "execution_count": null,
      "metadata": {
        "colab": {
          "base_uri": "https://localhost:8080/"
        },
        "id": "2fUmxekiWPZK",
        "outputId": "52c9317a-6a1f-4a11-bf89-7635d1619c68"
      },
      "outputs": [
        {
          "output_type": "stream",
          "name": "stdout",
          "text": [
            "Piensa en un número entre el 1 y el 100. Yo trataré de adivinarlo\n",
            "\n",
            "¿Es 54 tu número?\n",
            "Ingresa 'mayor', 'menor' o 'igual' según corresponda: igual\n",
            "¡He logrado adivinar tu número\n"
          ]
        }
      ],
      "source": [
        "print(\"Piensa en un número entre el 1 y el 100. Yo trataré de adivinarlo\\n\")\n",
        "\n",
        "import random\n",
        "num_min = 1\n",
        "num_max = 100\n",
        "contador=0\n",
        "\n",
        "while contador == 0:\n",
        "  num = random.randint(num_min+1,num_max-1)\n",
        "  print(f\"¿Es {num} tu número?\")\n",
        "  guia = input(\"Ingresa 'mayor', 'menor' o 'igual' según corresponda: \")\n",
        "\n",
        "  if guia.lower() == \"mayor\":\n",
        "    num_min = num\n",
        "    continue\n",
        "  elif guia.lower() == \"menor\":\n",
        "    num_max = num\n",
        "    continue\n",
        "  elif guia.lower() == \"igual\":\n",
        "    print(\"¡He logrado adivinar tu número\")\n",
        "    contador +=1"
      ]
    },
    {
      "cell_type": "markdown",
      "source": [
        "# Proyecto #3"
      ],
      "metadata": {
        "id": "NrmHhCNoWoLu"
      }
    },
    {
      "cell_type": "code",
      "source": [
        "dic_lista = {\"1. Agregar productos al carrito\":1,\n",
        "             \"2. Ver carrito\":2,\n",
        "             \"3. Realizar el pago y salir\":3\n",
        "             }\n",
        "dic_productos = {\"Camiseta\":20,\n",
        "                 \"Jeans\":40,\n",
        "                 \"Zapatos\":60,\n",
        "                 \"Sombrero\":10,\n",
        "                 }\n",
        "dic_carrito = {}\n",
        "dic_total = {}\n",
        "contador = 0\n",
        "contador_dos = 0\n",
        "monto_total = 0\n",
        "total = 0\n",
        "lista_total_enteros = []\n",
        "contadores = 0\n",
        "\n",
        "while contador == 0:\n",
        "  print(\"\\nMenú\")\n",
        "  for i in dic_lista:\n",
        "    print(i)\n",
        "  opcion_es = input(\"Seleccione una opción: \")\n",
        "\n",
        "  if opcion_es == \"1\":\n",
        "    print(\"\\nProductos disponibles:\")\n",
        "    for j in dic_productos:\n",
        "      print(\"-\",j,\"$\",dic_productos[j])\n",
        "\n",
        "    nombre_producto = input(\"Ingrese el nombre del producto que desea agregar:\")\n",
        "    lista_claves = list(dic_carrito.keys())\n",
        "\n",
        "    for k in dic_productos:\n",
        "      if nombre_producto.capitalize() in lista_claves:\n",
        "        dic_carrito[nombre_producto.capitalize()] += 1\n",
        "        print(f\"Producto '{k}' agregado al carrito\")\n",
        "        break\n",
        "      elif nombre_producto.capitalize() == k:\n",
        "        dic_carrito[nombre_producto.capitalize()] = 1\n",
        "        print(f\"Producto '{k}' agregado al carrito\")\n",
        "    continue\n",
        "\n",
        "  elif opcion_es == \"2\":\n",
        "    print(\"\\nCarrito:\")\n",
        "    print(\"\\n   Cantidad     Producto\")\n",
        "    for l in dic_carrito:\n",
        "      print(\"   -  \",dic_carrito[l], \"      \",l,\"$\",dic_productos[l], \" c/u\")\n",
        "      dic_total.update({l:dic_carrito[l]*dic_productos[l]})\n",
        "      print(dic_total)\n",
        "    print()\n",
        "    continue\n",
        "  elif opcion_es == \"3\":\n",
        "    lista_total = list(dic_total.keys())\n",
        "    while contadores == 0:\n",
        "      for i in lista_total:\n",
        "        lista_total_enteros.append(int(dic_total[i]))\n",
        "      monto_total=sum(lista_total_enteros)\n",
        "      contadores += 1\n",
        "    print(f\"Total a pagar ${monto_total}\")\n",
        "    try:\n",
        "      metodo = int(input(\"Ingrese el monto con el que pagará: $\"))\n",
        "      if metodo >= monto_total:\n",
        "        print(f\"\\nSu cambio es: ${metodo-monto_total}\")\n",
        "        print(\"Gracias por su compra\")\n",
        "        contador+=1\n",
        "        break\n",
        "      elif metodo < monto_total:\n",
        "        print(\"El monto ingresado es insuficiente. Favor ingresar un monto válido\")\n",
        "        continue\n",
        "    except ValueError as ve:\n",
        "      print(f\"\\n#####\\nIngrese un número entero: Error! {ve}\\n#####\")\n",
        "      continue\n",
        "  else:\n",
        "    print(\"Opción no válidas\")\n",
        "    continue\n",
        "  contador+=1\n"
      ],
      "metadata": {
        "colab": {
          "base_uri": "https://localhost:8080/"
        },
        "id": "T1yW0qnUMbii",
        "outputId": "eb6a8972-9641-4c51-9c38-983f2be4de8f"
      },
      "execution_count": null,
      "outputs": [
        {
          "output_type": "stream",
          "name": "stdout",
          "text": [
            "\n",
            "Menú\n",
            "1. Agregar productos al carrito\n",
            "2. Ver carrito\n",
            "3. Realizar el pago y salir\n",
            "Seleccione una opción: 3\n",
            "Total a pagar $0\n",
            "Ingrese el monto con el que pagará: $0\n",
            "\n",
            "Su cambio es: $0\n",
            "Gracias por su compra\n"
          ]
        }
      ]
    },
    {
      "cell_type": "markdown",
      "source": [
        "# Proyecto 4"
      ],
      "metadata": {
        "id": "f8WYYUVuVjXh"
      }
    },
    {
      "cell_type": "code",
      "source": [
        "variables = str(input(\"Ingrese un npumero entre 1 y 3999: \"))\n",
        "lista = []\n",
        "\n",
        "try:\n",
        "  if 1<=int(variables)<=3999:\n",
        "    for i in variables:\n",
        "      lista.append(int(i))\n",
        "\n",
        "    if len(lista)<4:\n",
        "      for i in range(4-len(lista)):\n",
        "        lista.insert(0,0)\n",
        "\n",
        "    print(\"\\nEl número en formato romano es: \", end = \"\")\n",
        "\n",
        "    if lista[-4] != 0:\n",
        "      if lista[-4]<4:\n",
        "        for i in range(lista[-4]):\n",
        "          print(\"M\",end=\"\")\n",
        "\n",
        "    if lista[-3] != 0:\n",
        "      if lista[-3]<4:\n",
        "        for i in range(lista[-3]):\n",
        "          print(\"C\",end=\"\")\n",
        "      elif lista[-3]==4:\n",
        "        print(\"CD\",end=\"\")\n",
        "      elif 4<lista[-3]<9:\n",
        "        print(\"D\", end=\"\")\n",
        "        for i in range(lista[-3]-5):\n",
        "          print(\"C\", end=\"\")\n",
        "      elif lista[-3] == 9:\n",
        "        print(\"CM\",end=\"\")\n",
        "\n",
        "    if lista[-2] != 0:\n",
        "      if lista[-2]<4:\n",
        "        for i in range(lista[-2]):\n",
        "          print(\"X\",end=\"\")\n",
        "      elif lista[-2]==4:\n",
        "        print(\"XL\",end=\"\")\n",
        "      elif 4<lista[-2]<9:\n",
        "        print(\"L\", end=\"\")\n",
        "        for i in range(lista[-2]-5):\n",
        "          print(\"X\", end=\"\")\n",
        "      elif lista[-2] == 9:\n",
        "        print(\"XC\",end=\"\")\n",
        "\n",
        "    if lista[-1] != 0:\n",
        "      if lista[-1]<4:\n",
        "        for i in range(lista[-1]):\n",
        "          print(\"I\",end=\"\")\n",
        "      elif lista[-1]==4:\n",
        "        print(\"IV\",end=\"\")\n",
        "      elif 4<lista[-1]<9:\n",
        "        print(\"V\", end=\"\")\n",
        "        for i in range(lista[-1]-5):\n",
        "          print(\"I\", end=\"\")\n",
        "      elif lista[-1] == 9:\n",
        "        print(\"IX\",end=\"\")\n",
        "  else:\n",
        "      print(\"Ingrese un número en el rango indicado\")\n",
        "except ValueError:\n",
        "  print(\"Error! Ingrese un número entero\")"
      ],
      "metadata": {
        "id": "lyOqWxUrdQFA",
        "colab": {
          "base_uri": "https://localhost:8080/"
        },
        "outputId": "9983695b-db57-4c2a-e898-a265e05903e4"
      },
      "execution_count": 2,
      "outputs": [
        {
          "output_type": "stream",
          "name": "stdout",
          "text": [
            "Ingrese un npumero entre 1 y 3999: 67\n",
            "\n",
            "El número en formato romano es: LXVII"
          ]
        }
      ]
    }
  ]
}