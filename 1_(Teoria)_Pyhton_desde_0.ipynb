{
  "nbformat": 4,
  "nbformat_minor": 0,
  "metadata": {
    "colab": {
      "provenance": [],
      "authorship_tag": "ABX9TyPP/OerYV3pdbzQlEhQNs6+",
      "include_colab_link": true
    },
    "kernelspec": {
      "name": "python3",
      "display_name": "Python 3"
    },
    "language_info": {
      "name": "python"
    }
  },
  "cells": [
    {
      "cell_type": "markdown",
      "metadata": {
        "id": "view-in-github",
        "colab_type": "text"
      },
      "source": [
        "<a href=\"https://colab.research.google.com/github/camilorp5/Python_desde_Cero/blob/main/1_(Teoria)_Pyhton_desde_0.ipynb\" target=\"_parent\"><img src=\"https://colab.research.google.com/assets/colab-badge.svg\" alt=\"Open In Colab\"/></a>"
      ]
    },
    {
      "cell_type": "markdown",
      "source": [
        "# Strings"
      ],
      "metadata": {
        "id": "uP0ebZVMCKTS"
      }
    },
    {
      "cell_type": "code",
      "execution_count": null,
      "metadata": {
        "id": "ArtagaH5-JY5"
      },
      "outputs": [],
      "source": [
        "## Operadores de asignación\n",
        "x=5\n",
        "x+=5\n",
        "print(x)\n",
        "\n",
        "y=5\n",
        "y-=5\n",
        "print(y)\n",
        "\n",
        "z=5\n",
        "z*=3\n",
        "print(z)\n",
        "\n",
        "w=4\n",
        "w/=3\n",
        "print(w)\n",
        "\n",
        "##Divisíon entera\n",
        "p=4\n",
        "p//=3\n",
        "print(p)\n",
        "\n",
        "##Potencia\n",
        "a=2\n",
        "a**=3\n",
        "print(a)\n",
        "\n",
        "##Módulo\n",
        "b=4\n",
        "b%=2\n",
        "print(b)"
      ]
    },
    {
      "cell_type": "code",
      "source": [
        "## Operadores de asignación con texto\n",
        "m1 = \"Mamá\"\n",
        "m1 += \"Hola\"\n",
        "m1"
      ],
      "metadata": {
        "id": "EE5eEzVh-vDx",
        "colab": {
          "base_uri": "https://localhost:8080/",
          "height": 35
        },
        "outputId": "6931580c-9db2-43a7-8205-4db4874e3762"
      },
      "execution_count": null,
      "outputs": [
        {
          "output_type": "execute_result",
          "data": {
            "text/plain": [
              "'MamáHola'"
            ],
            "application/vnd.google.colaboratory.intrinsic+json": {
              "type": "string"
            }
          },
          "metadata": {},
          "execution_count": 1
        }
      ]
    },
    {
      "cell_type": "code",
      "source": [
        "## Parámetros sep y end\n",
        "## El parámetro end elimina el salto de línea generado entre 2 instrucciones print y agrega texto entre ellos\n",
        "\n",
        "print(\"Esto es un\", end=\" // \")\n",
        "print(\"ejemplo\")\n",
        "\n",
        "## EL parámetro sep (notemos que se agregan espacios automáticamente)\n",
        "print(\"1\",\"2\",\"3\",\"4\",\"5\")\n",
        "print(\"1\",\"2\",\"3\",\"4\",\"5\",sep=\"-\")\n",
        "print(\"1\",\"2\",\"3\",\"4\",\"5\",sep=\"\")"
      ],
      "metadata": {
        "colab": {
          "base_uri": "https://localhost:8080/"
        },
        "id": "CjZ7x39C-1DW",
        "outputId": "aecc0633-b3a2-46f0-a7c6-ee0a401b6e48"
      },
      "execution_count": null,
      "outputs": [
        {
          "output_type": "stream",
          "name": "stdout",
          "text": [
            "Esto es un // ejemplo\n",
            "1 2 3 4 5\n",
            "1-2-3-4-5\n",
            "12345\n"
          ]
        }
      ]
    },
    {
      "cell_type": "code",
      "source": [
        "#3 Ciclo while\n",
        "\n",
        "print(\" Ejercicio 1\")\n",
        "X=1\n",
        "while X<3:\n",
        "  print(X)\n",
        "  X+=1\n",
        "print(\"Fin\")\n",
        "\n",
        "print(\" Ejercicio 2\")\n",
        "X=1\n",
        "while X<4:\n",
        "  print(\"Camilo\")\n",
        "  X+=1\n",
        "print(\"Fin\")\n"
      ],
      "metadata": {
        "colab": {
          "base_uri": "https://localhost:8080/"
        },
        "id": "xYlkErf0AcC8",
        "outputId": "47422eac-5e02-4fe1-a978-fb3af482973c"
      },
      "execution_count": null,
      "outputs": [
        {
          "output_type": "stream",
          "name": "stdout",
          "text": [
            " Ejercicio 1\n",
            "1\n",
            "2\n",
            "Fin\n",
            " Ejercicio 2\n",
            "Camilo\n",
            "Camilo\n",
            "Camilo\n",
            "Fin\n"
          ]
        }
      ]
    },
    {
      "cell_type": "code",
      "source": [
        "## Bucle While con sentencia break\n",
        "\n",
        "contador = 0\n",
        "\n",
        "while contador<=10:\n",
        "  contador +=1\n",
        "  if contador == 5:\n",
        "    break\n",
        "  print(\"Valor actual de la variable:\", contador)\n",
        "print(\"FIN. Se ha ejecutado la sentencia break\")"
      ],
      "metadata": {
        "id": "EpNlrwdDB3Az",
        "colab": {
          "base_uri": "https://localhost:8080/"
        },
        "outputId": "85edb740-abf7-49a1-ce6d-1bc9b832ec7e"
      },
      "execution_count": null,
      "outputs": [
        {
          "output_type": "stream",
          "name": "stdout",
          "text": [
            "Valor actual de la variable: 1\n",
            "Valor actual de la variable: 2\n",
            "Valor actual de la variable: 3\n",
            "Valor actual de la variable: 4\n",
            "FIN. Se ha ejecutado la sentencia break\n"
          ]
        }
      ]
    },
    {
      "cell_type": "code",
      "source": [
        "## Bucle While con sentencia continue\n",
        "\n",
        "contador = 0\n",
        "\n",
        "while contador<8:\n",
        "  contador +=1\n",
        "  if contador == 5:\n",
        "    print(\"Estas en el número 5\")\n",
        "    continue\n",
        "  print(\"Valor actual de la variable:\", contador)"
      ],
      "metadata": {
        "colab": {
          "base_uri": "https://localhost:8080/"
        },
        "id": "qScOubw9W40n",
        "outputId": "87944405-2a2c-466a-8ab5-6bde9079c6dc"
      },
      "execution_count": null,
      "outputs": [
        {
          "output_type": "stream",
          "name": "stdout",
          "text": [
            "Valor actual de la variable: 1\n",
            "Valor actual de la variable: 2\n",
            "Valor actual de la variable: 3\n",
            "Valor actual de la variable: 4\n",
            "Estas en el número 5\n",
            "Valor actual de la variable: 6\n",
            "Valor actual de la variable: 7\n",
            "Valor actual de la variable: 8\n"
          ]
        }
      ]
    },
    {
      "cell_type": "code",
      "source": [
        "## Función len()\n",
        "\n",
        "print(len(\" H o l a \"))\n",
        "\n",
        "print(\"La palabra 'Hola' tiene\", len(\"Hola\"), \"carácteres\")"
      ],
      "metadata": {
        "colab": {
          "base_uri": "https://localhost:8080/"
        },
        "id": "-rbQw651XtWT",
        "outputId": "c1bc7d48-1ea9-4aae-dd13-3a45c77a5fc0"
      },
      "execution_count": null,
      "outputs": [
        {
          "output_type": "stream",
          "name": "stdout",
          "text": [
            "9\n",
            "La palabra 'Hola' tiene 4 carácteres\n"
          ]
        }
      ]
    },
    {
      "cell_type": "code",
      "source": [
        "## Concatenación método format\n",
        "\n",
        "print(\"Método 1\")\n",
        "A=\"Camilo\"\n",
        "B=19\n",
        "print(\"Hola {} tienes {} años\\n\".format(A, B))\n",
        "\n",
        "print(\"Método 2\")\n",
        "print(\"Hola {nombre} tienes {edad} años\\n\".format(nombre=\"Ignacio\", edad=\"20\"))\n",
        "\n",
        "print(\"Método 3\")\n",
        "print(\"Hola {0} tienes {1} años\\n\".format(A, B))\n",
        "\n",
        "print(\"Truquito\")\n",
        "print(\"Hola {nombre} tienes {edad} años \".format(nombre=input(\"ingrese su nombre\"), edad = input(\"ingrese su edad \")))"
      ],
      "metadata": {
        "id": "QXdJu8iKXwTK"
      },
      "execution_count": null,
      "outputs": []
    },
    {
      "cell_type": "code",
      "source": [
        "## f-Strings\n",
        "\n",
        "nombre=input(\"Ingresa tu nombre: \")\n",
        "n1=int(input(\"Ingresa un número: \"))\n",
        "n2=int(input(\"Ingresa otro número: \"))\n",
        "\n",
        "print(f\"Hola {nombre}, el resultado de {n1} + {n2} es {n1+n2}\")"
      ],
      "metadata": {
        "colab": {
          "base_uri": "https://localhost:8080/"
        },
        "id": "2H2PFzPxYysT",
        "outputId": "ab80a58b-08f1-4661-d0e6-dd16dcae76cc"
      },
      "execution_count": null,
      "outputs": [
        {
          "output_type": "stream",
          "name": "stdout",
          "text": [
            "Ingresa tu nombre: Camilo\n",
            "Ingresa un número: 38\n",
            "Ingresa otro número: 29\n",
            "Hola Camilo, el resultado de 38 + 29 es 67\n"
          ]
        }
      ]
    },
    {
      "cell_type": "code",
      "source": [
        "## Método strip()\n",
        "\n",
        "cadena1 = \" Hola Ernesto \"\n",
        "A=cadena1.strip(\" \")\n",
        "print(A)\n",
        "\n",
        "A = A.strip(\"o\")\n",
        "print(A)\n",
        "\n",
        "A = A.strip(\"s tHo\")\n",
        "print(A)"
      ],
      "metadata": {
        "colab": {
          "base_uri": "https://localhost:8080/"
        },
        "id": "QSUYjoLGcrw2",
        "outputId": "67b8c585-ff93-47d0-de39-e4b2278a5057"
      },
      "execution_count": null,
      "outputs": [
        {
          "output_type": "stream",
          "name": "stdout",
          "text": [
            "Hola Ernesto\n",
            "Hola Ernest\n",
            "la Erne\n"
          ]
        }
      ]
    },
    {
      "cell_type": "code",
      "source": [
        "## Método rstrip()\n",
        "## Solo modifica carácteres al final de una cadena\n",
        "\n",
        "cadena=\" Hola Ernesto \"\n",
        "\n",
        "print(cadena.rstrip(\" o\"))\n",
        "\n",
        "print(cadena.rstrip(\" oHt\"))\n",
        "\n",
        "## Método lstrip()\n",
        "## Solo modifica carácteres al inicio de una cadena\n",
        "\n",
        "cadena=\" Hola Ernesto \"\n",
        "\n",
        "print(cadena.lstrip(\" Ho\"))"
      ],
      "metadata": {
        "id": "f9MSCM8_drSF",
        "colab": {
          "base_uri": "https://localhost:8080/"
        },
        "outputId": "e8c302ef-c242-4243-c315-f9ac84f779d7"
      },
      "execution_count": null,
      "outputs": [
        {
          "output_type": "stream",
          "name": "stdout",
          "text": [
            " Hola Ernest\n",
            " Hola Ernes\n",
            "la Ernesto \n"
          ]
        }
      ]
    },
    {
      "cell_type": "code",
      "source": [
        "## istitle() y title()\n",
        "\n",
        "variable = \"HoLa CoMo Estas\"\n",
        "print(variable.istitle())\n",
        "\n",
        "variable = \"Hola Como Estas\"\n",
        "print(variable.istitle())\n",
        "\n",
        "## title()\n",
        "\n",
        "nombre = \"camiLO pErez\"\n",
        "print(nombre.title())"
      ],
      "metadata": {
        "colab": {
          "base_uri": "https://localhost:8080/"
        },
        "id": "xcSE0QHm4YoN",
        "outputId": "9685a04f-b30c-4136-aa1d-807db617b206"
      },
      "execution_count": null,
      "outputs": [
        {
          "output_type": "stream",
          "name": "stdout",
          "text": [
            "False\n",
            "True\n",
            "Camilo Perez\n"
          ]
        }
      ]
    },
    {
      "cell_type": "code",
      "source": [
        "## islower()\n",
        "\n",
        "cadena = \"Camilo Perez\"\n",
        "print(cadena.islower())\n",
        "\n",
        "## lower()\n",
        "\n",
        "print(cadena.lower())\n",
        "\n",
        "## is upper()\n",
        "cadena = \"Hola Mundo\"\n",
        "print(cadena.isupper())\n",
        "\n",
        "## upper()\n",
        "print(cadena.upper())"
      ],
      "metadata": {
        "colab": {
          "base_uri": "https://localhost:8080/"
        },
        "id": "8t9Lq5sp5kvo",
        "outputId": "f74c7614-e3d3-4c5b-d05d-08ab9e50eb83"
      },
      "execution_count": null,
      "outputs": [
        {
          "output_type": "stream",
          "name": "stdout",
          "text": [
            "False\n",
            "camilo perez\n",
            "False\n",
            "HOLA MUNDO\n"
          ]
        }
      ]
    },
    {
      "cell_type": "code",
      "source": [
        "## swapcase()\n",
        "\n",
        "nombre = \" camilo PEREZ\"\n",
        "print(nombre.swapcase())"
      ],
      "metadata": {
        "colab": {
          "base_uri": "https://localhost:8080/"
        },
        "id": "klcu1m9p7kzm",
        "outputId": "805e687d-649a-45e5-dd7e-f383e25187bd"
      },
      "execution_count": null,
      "outputs": [
        {
          "output_type": "stream",
          "name": "stdout",
          "text": [
            " CAMILO perez\n"
          ]
        }
      ]
    },
    {
      "cell_type": "code",
      "source": [
        "## capitalize()\n",
        "nombre = \"caMilo PerEz\"\n",
        "print(nombre.capitalize())\n",
        "nombre = nombre.capitalize()\n",
        "print(nombre.istitle())\n",
        "print(nombre.title())"
      ],
      "metadata": {
        "colab": {
          "base_uri": "https://localhost:8080/"
        },
        "id": "yGm9zxTE8US3",
        "outputId": "615b7d95-84ba-4484-ab7a-000ea0c9621f"
      },
      "execution_count": null,
      "outputs": [
        {
          "output_type": "stream",
          "name": "stdout",
          "text": [
            "Camilo perez\n",
            "False\n",
            "Camilo Perez\n"
          ]
        }
      ]
    },
    {
      "cell_type": "code",
      "source": [
        "## center(A)\n",
        "## A debe ser un numero entero y mayor que la cantidad de caractéres de la variable\n",
        "\n",
        "nombre = \"camilo perez\"\n",
        "print(nombre.center(20, \"=\"))\n",
        "\n",
        "## ljust()\n",
        "nombre = \"camilo perez\"\n",
        "print(nombre.ljust(20, \"=\"))\n",
        "\n",
        "## rjust()\n",
        "nombre = \"camilo perez\"\n",
        "print(nombre.rjust(20, \"/\"))"
      ],
      "metadata": {
        "colab": {
          "base_uri": "https://localhost:8080/"
        },
        "id": "A57PgsO79EZP",
        "outputId": "564a89eb-2aae-43ad-89bd-440faf8728a3"
      },
      "execution_count": null,
      "outputs": [
        {
          "output_type": "stream",
          "name": "stdout",
          "text": [
            "====camilo perez====\n",
            "camilo perez========\n",
            "////////camilo perez\n"
          ]
        }
      ]
    },
    {
      "cell_type": "code",
      "source": [
        "## count()\n",
        "\n",
        "nombre = \"Camilo perez\"\n",
        "print(nombre.count(\"e\",8))\n",
        "\n",
        "print(nombre.count(\"e\",-3))"
      ],
      "metadata": {
        "colab": {
          "base_uri": "https://localhost:8080/"
        },
        "id": "x9zCHQMH90CG",
        "outputId": "cd819759-106a-4342-8e0f-8ba353fc136b"
      },
      "execution_count": null,
      "outputs": [
        {
          "output_type": "stream",
          "name": "stdout",
          "text": [
            "2\n",
            "1\n"
          ]
        }
      ]
    },
    {
      "cell_type": "code",
      "source": [
        "## startswith()\n",
        "variable = \"Hola cómo estas\"\n",
        "print(variable.startswith(\"ol\",1,5))\n",
        "\n",
        "## endswith()\n",
        "variable = \"Hola cómo estas\"\n",
        "variable.endswith(\"la\",0,4)"
      ],
      "metadata": {
        "colab": {
          "base_uri": "https://localhost:8080/"
        },
        "id": "ZIg2cTdg0tjh",
        "outputId": "001b252e-73f0-4097-dc6c-a9d57d8832ce"
      },
      "execution_count": null,
      "outputs": [
        {
          "output_type": "stream",
          "name": "stdout",
          "text": [
            "True\n"
          ]
        },
        {
          "output_type": "execute_result",
          "data": {
            "text/plain": [
              "True"
            ]
          },
          "metadata": {},
          "execution_count": 32
        }
      ]
    },
    {
      "cell_type": "code",
      "source": [
        "## substrings, sucesiones de cadenas dentro de una cadena principal\n",
        "\n",
        "variable = \"Mi nombre es Juan\"\n",
        "print(variable[3:9:2])\n",
        "\n",
        "'''También se puede trabajar con número negativos, el funcionamiento de este\n",
        "comando es el mismo solo cambia la posición'''\n",
        "\n",
        "variable_dos = \"Mi nombre es Juan\"\n",
        "variable_dos[-5:-1:1]"
      ],
      "metadata": {
        "colab": {
          "base_uri": "https://localhost:8080/",
          "height": 53
        },
        "id": "xyHoYv183C29",
        "outputId": "3930b3c7-2890-4c2d-e2a1-aaf50515a502"
      },
      "execution_count": null,
      "outputs": [
        {
          "output_type": "stream",
          "name": "stdout",
          "text": [
            "nmr\n"
          ]
        },
        {
          "output_type": "execute_result",
          "data": {
            "text/plain": [
              "' Jua'"
            ],
            "application/vnd.google.colaboratory.intrinsic+json": {
              "type": "string"
            }
          },
          "metadata": {},
          "execution_count": 48
        }
      ]
    },
    {
      "cell_type": "code",
      "source": [
        "## bucle for\n",
        "\n",
        "variable = \"Hola\"\n",
        "for i in variable:\n",
        "  print(i)\n",
        "print(\"Fin del programa\")"
      ],
      "metadata": {
        "id": "0UKfG04j4v8a",
        "colab": {
          "base_uri": "https://localhost:8080/"
        },
        "outputId": "ba1e7fd1-d692-44d3-8975-718df8710d55"
      },
      "execution_count": null,
      "outputs": [
        {
          "output_type": "stream",
          "name": "stdout",
          "text": [
            "H\n",
            "o\n",
            "l\n",
            "a\n",
            "Fin del programa\n"
          ]
        }
      ]
    },
    {
      "cell_type": "code",
      "source": [
        "## clase range\n",
        "\n",
        "for i in range(5):\n",
        "  print(i,end=\"/\")\n",
        "print(\"\\n\")\n",
        "\n",
        "for j in range(1,5):\n",
        "  print(j,end=\"-\")\n",
        "print(\"\\n\")\n",
        "\n",
        "for k in range(1,6,2):\n",
        "  print(k,end=\"+\")\n",
        "print(\"\\n\")\n",
        "\n",
        "for m in range(5,0,-1):\n",
        "  print(m,end=\"+\")\n",
        "print(\"\\n\")"
      ],
      "metadata": {
        "id": "GC6K1LIjk0zv",
        "colab": {
          "base_uri": "https://localhost:8080/"
        },
        "outputId": "19ecc1b5-63d1-4d14-83ba-56397bff7d37"
      },
      "execution_count": null,
      "outputs": [
        {
          "output_type": "stream",
          "name": "stdout",
          "text": [
            "0/1/2/3/4/\n",
            "\n",
            "1-2-3-4-\n",
            "\n",
            "1+3+5+\n",
            "\n",
            "5+4+3+2+1+\n",
            "\n"
          ]
        }
      ]
    },
    {
      "cell_type": "markdown",
      "source": [
        "# Listas"
      ],
      "metadata": {
        "id": "g2U443bUCCAl"
      }
    },
    {
      "cell_type": "code",
      "source": [
        "## Listas\n",
        "## Homogéneas: Mismos tipo de datos Heterogéneas: Distintos tipos de datos\n",
        "\n",
        "print(\"Lista vacía\")\n",
        "lista_prueba = []\n",
        "print(lista_prueba)\n",
        "\n",
        "print(\"Lista homogénea\")\n",
        "lista_homo = [\"Victor\", \"Carlos\"]\n",
        "print(lista_homo)\n",
        "\n",
        "print(\"Lista heterogénea\")\n",
        "lista_hete = [\"Sandra\", 3, 3.3, True]\n",
        "print(lista_hete)\n"
      ],
      "metadata": {
        "id": "Kz6OhFme1Lgp",
        "colab": {
          "base_uri": "https://localhost:8080/"
        },
        "outputId": "a7d66510-47ca-42bf-8ba1-859336f1f05e"
      },
      "execution_count": null,
      "outputs": [
        {
          "output_type": "stream",
          "name": "stdout",
          "text": [
            "Lista vacía\n",
            "[]\n",
            "Lista homogénea\n",
            "['Victor', 'Carlos']\n",
            "Lista heterogénea\n",
            "['Sandra', 3, 3.3, True]\n"
          ]
        }
      ]
    },
    {
      "cell_type": "code",
      "source": [
        "## Acceder a los elementos de una lista\n",
        "\n",
        "marcas = [\"Toyota\", \"Apple\", \"Mazda\", \"Samsung\"]\n",
        "len(marcas)\n",
        "\n",
        "print(marcas[3])\n",
        "print(marcas[0])\n",
        "print(marcas[-1])\n",
        "print(marcas[-2])\n",
        "\n",
        "print(marcas[0:1])\n",
        "print(marcas[1:])\n",
        "print(marcas[:3])\n",
        "print(marcas[:])"
      ],
      "metadata": {
        "colab": {
          "base_uri": "https://localhost:8080/"
        },
        "id": "_zRGP8t-GmSl",
        "outputId": "d2d8c611-4345-4c25-8cd8-96b174dd3a22"
      },
      "execution_count": null,
      "outputs": [
        {
          "output_type": "stream",
          "name": "stdout",
          "text": [
            "Samsung\n",
            "Toyota\n",
            "Samsung\n",
            "Mazda\n",
            "['Toyota']\n",
            "['Apple', 'Mazda', 'Samsung']\n",
            "['Toyota', 'Apple', 'Mazda']\n",
            "['Toyota', 'Apple', 'Mazda', 'Samsung']\n"
          ]
        }
      ]
    },
    {
      "cell_type": "code",
      "source": [
        "## Modificar los elementos de una lista\n",
        "\n",
        "vocales = [\"a\", \"e\", \"i\", \"o\", \"u\"]\n",
        "\n",
        "vocales[1] = \"x\"\n",
        "print(vocales)\n",
        "\n",
        "vocales[2:4] = [\"y\",\"z\"]\n",
        "print(vocales)\n",
        "\n",
        "vocales[0:3] = [\"y\",\"z\"]\n",
        "print(vocales)\n",
        "\n",
        "vocales[0:2] = [\"y\",\"z\",\"w\"]\n",
        "print(vocales)"
      ],
      "metadata": {
        "colab": {
          "base_uri": "https://localhost:8080/"
        },
        "id": "hIH9rrGLIj6G",
        "outputId": "7f4666ad-ed28-461a-cdd1-7c5c548065d0"
      },
      "execution_count": null,
      "outputs": [
        {
          "output_type": "stream",
          "name": "stdout",
          "text": [
            "['a', 'x', 'i', 'o', 'u']\n",
            "['a', 'x', 'y', 'z', 'u']\n",
            "['y', 'z', 'z', 'u']\n",
            "['y', 'z', 'w', 'z', 'u']\n"
          ]
        }
      ]
    },
    {
      "cell_type": "code",
      "source": [
        "## Agregar elementos a una lista append()\n",
        "\n",
        "cocina = [\"Cuchara\", \"Tenedor\", \"Cuchillo\"]\n",
        "cocina.append(\"Olla\")\n",
        "cocina"
      ],
      "metadata": {
        "colab": {
          "base_uri": "https://localhost:8080/"
        },
        "id": "Z7dlKYl4KG6o",
        "outputId": "911c93a6-543d-4221-ba03-046952b3da95"
      },
      "execution_count": null,
      "outputs": [
        {
          "output_type": "execute_result",
          "data": {
            "text/plain": [
              "['Cuchara', 'Tenedor', 'Cuchillo', 'Olla']"
            ]
          },
          "metadata": {},
          "execution_count": 32
        }
      ]
    },
    {
      "cell_type": "code",
      "source": [
        "## insert() Insertar elementos a una lista en una posición determinada\n",
        "\n",
        "paises = [\"Francia\",\"Alemania\",\"Colombia\"]\n",
        "paises.insert(2,\"Venezuela\")\n",
        "paises"
      ],
      "metadata": {
        "colab": {
          "base_uri": "https://localhost:8080/"
        },
        "id": "p4d8jss8Mu0I",
        "outputId": "a846bfac-3e5d-4a55-bd5e-8e7124025f5f"
      },
      "execution_count": null,
      "outputs": [
        {
          "output_type": "execute_result",
          "data": {
            "text/plain": [
              "['Francia', 'Alemania', 'Venezuela', 'Colombia']"
            ]
          },
          "metadata": {},
          "execution_count": 35
        }
      ]
    },
    {
      "cell_type": "code",
      "source": [
        "## pop() Eliminar elementos de una lista\n",
        "\n",
        "lista = [2, \"Manzana\", 10.7, True]\n",
        "lista.pop(2)\n",
        "print(lista)\n",
        "\n",
        "lista = [2, \"Manzana\", 10.7, True]\n",
        "lista.pop()\n",
        "print(lista)"
      ],
      "metadata": {
        "colab": {
          "base_uri": "https://localhost:8080/"
        },
        "id": "vBg_aVIWNHIf",
        "outputId": "c42b4cda-b67c-43f2-c2e3-594a5e4e49a4"
      },
      "execution_count": null,
      "outputs": [
        {
          "output_type": "stream",
          "name": "stdout",
          "text": [
            "[2, 'Manzana', True]\n",
            "[2, 'Manzana', 10.7]\n"
          ]
        }
      ]
    },
    {
      "cell_type": "code",
      "source": [
        "## remove() Eliminar elementos de una lista\n",
        "\n",
        "almuerzos = [\"Pasta\", 2, \"Arroz con pollo\"]\n",
        "almuerzos.remove(\"Pasta\")\n",
        "print(almuerzos)"
      ],
      "metadata": {
        "colab": {
          "base_uri": "https://localhost:8080/"
        },
        "id": "R4K454qaOCcN",
        "outputId": "3e34eb09-54eb-4ccb-d6f4-631c026c3418"
      },
      "execution_count": null,
      "outputs": [
        {
          "output_type": "stream",
          "name": "stdout",
          "text": [
            "[2, 'Arroz con pollo']\n"
          ]
        }
      ]
    },
    {
      "cell_type": "code",
      "source": [
        "## Instrucción del - Eliminar una lista\n",
        "\n",
        "lista_uno = [\"Hola\", 3, True]\n",
        "del lista_uno[0]\n",
        "print(lista_uno)\n",
        "\n",
        "lista_uno = [\"Hola\", 3, True]\n",
        "del lista_uno[0:2]\n",
        "print(lista_uno)\n",
        "\n",
        "del lista_uno[:] ##Elimina los elementos de la lista, pero esta sigue existiendo\n",
        "print(lista_uno)\n",
        "\n",
        "del lista_uno ##Elimina la lista"
      ],
      "metadata": {
        "colab": {
          "base_uri": "https://localhost:8080/"
        },
        "id": "0iHpUYOvPYzM",
        "outputId": "de55af66-7670-4b76-e4ef-a5619329cfc4"
      },
      "execution_count": null,
      "outputs": [
        {
          "output_type": "stream",
          "name": "stdout",
          "text": [
            "[3, True]\n",
            "[True]\n",
            "[]\n"
          ]
        }
      ]
    },
    {
      "cell_type": "code",
      "source": [
        "## reverse() - Invertir los elementos de una lista\n",
        "\n",
        "numeros = [\"Uno\", 1, True, 1.1]\n",
        "print(f\"Lista antes: {numeros}\")\n",
        "print(f\"\\tPosición número 0 antes: {numeros[0]}\")\n",
        "print(f\"\\tPosición número 2 antes: {numeros[2]}\")\n",
        "\n",
        "numeros.reverse()\n",
        "print(f\"\\nLista después: {numeros}\")\n",
        "print(f\"\\tPosición número 0 después: {numeros[0]}\")\n",
        "print(f\"\\tPosición número 2 después: {numeros[2]}\")"
      ],
      "metadata": {
        "colab": {
          "base_uri": "https://localhost:8080/"
        },
        "id": "hmQa2V-JP65A",
        "outputId": "df3d7121-50e5-41cb-aa3c-7170aecaea63"
      },
      "execution_count": null,
      "outputs": [
        {
          "output_type": "stream",
          "name": "stdout",
          "text": [
            "\n",
            "Lista antes: ['Uno', 1, True, 1.1]\n",
            "\tPosición número 0 antes: Uno\n",
            "\tPosición número 2 antes: True\n",
            "\n",
            "Lista después: [1.1, True, 1, 'Uno']\n",
            "\tPosición número 0 después: 1.1\n",
            "\tPosición número 2 después: 1\n"
          ]
        }
      ]
    },
    {
      "cell_type": "code",
      "source": [
        "## Curiosidad\n",
        "\n",
        "print(\"Hola\")\n",
        "print(\"\\b Mundo\")\n",
        "\n",
        "print(\"\\nHola como te va hoy\")\n",
        "print(\"\\tMundo\")"
      ],
      "metadata": {
        "colab": {
          "base_uri": "https://localhost:8080/"
        },
        "id": "DtCEWmJ6Q6qU",
        "outputId": "11676c7f-7903-4733-bbb6-046a16e4a1c6"
      },
      "execution_count": null,
      "outputs": [
        {
          "output_type": "stream",
          "name": "stdout",
          "text": [
            "Hola\n",
            "\b Mundo\n",
            "\n",
            "Hola como te va hoy\n",
            "\tMundo\n"
          ]
        }
      ]
    },
    {
      "cell_type": "code",
      "source": [
        "## sort () - Ordenar los elementos de una lista\n",
        "\n",
        "numeros = [1,4,5,2,10]\n",
        "numeros.sort(reverse = True)\n",
        "print(numeros)\n",
        "\n",
        "numeros = [1,4,5,2,3]\n",
        "numeros.sort()\n",
        "print(numeros)\n",
        "\n",
        "numeros = [\"a\",\"o\",\"u\",\"e\",\"i\"]\n",
        "numeros.sort()\n",
        "print(numeros)\n",
        "\n",
        "numeros = [\"a\",\"o\",\"u\",\"e\",\"i\"]\n",
        "numeros.sort(reverse = True)\n",
        "print(numeros)"
      ],
      "metadata": {
        "colab": {
          "base_uri": "https://localhost:8080/"
        },
        "id": "evlZ0LfUSSmb",
        "outputId": "23d4ea54-e8df-4879-d898-7a0e6fe6e9bc"
      },
      "execution_count": null,
      "outputs": [
        {
          "output_type": "stream",
          "name": "stdout",
          "text": [
            "[10, 5, 4, 2, 1]\n",
            "[1, 2, 3, 4, 5]\n",
            "['a', 'e', 'i', 'o', 'u']\n",
            "['u', 'o', 'i', 'e', 'a']\n"
          ]
        }
      ]
    },
    {
      "cell_type": "code",
      "source": [
        "## index() - Buscar elementos de una lista\n",
        "'''\n",
        "SINTAXIS:\n",
        "Nombre_lista.index(elemento, inicio, final)\n",
        "Inicio y final deben ser enteros\n",
        "'''\n",
        "\n",
        "marcas = [\"Toyota\", \"Apple\", \"Mazda\", \"Samsung\"]\n",
        "print(marcas.index(\"Toyota\"))\n",
        "\n",
        "print(marcas.index(\"Mazda\", 1))\n"
      ],
      "metadata": {
        "colab": {
          "base_uri": "https://localhost:8080/"
        },
        "id": "Wc-IiApaU0sE",
        "outputId": "57d6728f-6bef-44e9-e453-5868716e7782"
      },
      "execution_count": null,
      "outputs": [
        {
          "output_type": "stream",
          "name": "stdout",
          "text": [
            "0\n",
            "2\n"
          ]
        }
      ]
    },
    {
      "cell_type": "code",
      "source": [
        "## extend() - Concatenar y extender listas\n",
        "\n",
        "cocina = [\"Cuchara\", \"Tenedor\", \"Cuchillo\"]\n",
        "baño = [\"Papel\", \"Cepillo\"]\n",
        "cocina.extend(baño)\n",
        "print(cocina)\n",
        "\n",
        "numeros = [10, 20]\n",
        "numeros.extend(range(30,100,10))\n",
        "print(numeros)"
      ],
      "metadata": {
        "colab": {
          "base_uri": "https://localhost:8080/"
        },
        "id": "jjZtKx6CWBaI",
        "outputId": "5cc64132-82b8-45f9-ba0a-c8b855df5344"
      },
      "execution_count": null,
      "outputs": [
        {
          "output_type": "stream",
          "name": "stdout",
          "text": [
            "['Cuchara', 'Tenedor', 'Cuchillo', 'Papel', 'Cepillo']\n",
            "[10, 20, 30, 40, 50, 60, 70, 80, 90]\n"
          ]
        }
      ]
    },
    {
      "cell_type": "code",
      "source": [
        "## sum() - Sumar elementos de una lista\n",
        "\n",
        "sum(range(1,4))\n",
        "\n",
        "digitos = [1, 4, 27]\n",
        "print(sum(digitos, 0))\n",
        "\n",
        "digitos = [1, 4, 27]\n",
        "print(sum(digitos, 10))\n",
        "\n",
        "digitos = [1, 4, 27]\n",
        "print(sum(digitos, -10))\n",
        "\n",
        "digitos = [1, 4, True]\n",
        "print(sum(digitos))"
      ],
      "metadata": {
        "colab": {
          "base_uri": "https://localhost:8080/"
        },
        "id": "MWGpCUZZXZeE",
        "outputId": "e7d98978-cf8c-430f-989d-fc9c6367b42b"
      },
      "execution_count": null,
      "outputs": [
        {
          "output_type": "stream",
          "name": "stdout",
          "text": [
            "32\n",
            "42\n",
            "22\n",
            "6\n"
          ]
        }
      ]
    },
    {
      "cell_type": "code",
      "source": [
        "## Constructor de lista\n",
        "\n",
        "print(list(range(0,100,10)))\n",
        "\n",
        "nombre = \"Camilo\"\n",
        "print(list(nombre))\n",
        "lista_nombre = list(nombre)\n",
        "print(lista_nombre[::-1])"
      ],
      "metadata": {
        "id": "4Y6s8wTHYAab",
        "colab": {
          "base_uri": "https://localhost:8080/"
        },
        "outputId": "596c746c-0a10-4db4-80b9-b4eb46b20792"
      },
      "execution_count": null,
      "outputs": [
        {
          "output_type": "stream",
          "name": "stdout",
          "text": [
            "[0, 10, 20, 30, 40, 50, 60, 70, 80, 90]\n",
            "['C', 'a', 'm', 'i', 'l', 'o']\n",
            "['o', 'l', 'i', 'm', 'a', 'C']\n"
          ]
        }
      ]
    },
    {
      "cell_type": "code",
      "source": [
        "## listas anidadas\n",
        "\n",
        "lista = [1, \"True\", [1,2,3]]\n",
        "print(lista[2])\n",
        "print(lista[2][1])\n",
        "\n",
        "lista = [1, \"True\", [1,[\"a\", \"e\",\"i\",\"o\"],3]]\n",
        "print(f\"Segunda lista: {lista[2]}\")\n",
        "print(lista[2][1])\n",
        "print(lista[2][1][2])"
      ],
      "metadata": {
        "colab": {
          "base_uri": "https://localhost:8080/"
        },
        "id": "ImR20GSvHN8_",
        "outputId": "2d31e27d-05cf-46f9-d884-8a95a2cdd90b"
      },
      "execution_count": null,
      "outputs": [
        {
          "output_type": "stream",
          "name": "stdout",
          "text": [
            "[1, 2, 3]\n",
            "2\n",
            "Segunda lista: [1, ['a', 'e', 'i', 'o'], 3]\n",
            "['a', 'e', 'i', 'o']\n",
            "i\n"
          ]
        }
      ]
    },
    {
      "cell_type": "code",
      "source": [],
      "metadata": {
        "id": "hkVSPBQDLDNf"
      },
      "execution_count": null,
      "outputs": []
    }
  ]
}