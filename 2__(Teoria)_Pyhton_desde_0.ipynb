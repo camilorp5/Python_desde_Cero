{
  "nbformat": 4,
  "nbformat_minor": 0,
  "metadata": {
    "colab": {
      "provenance": [],
      "toc_visible": true,
      "collapsed_sections": [
        "URzeT72uCa_3",
        "1DqK0DHuCT8c",
        "hp0KLWt-6MrL",
        "BW55mT1DW0OI"
      ],
      "authorship_tag": "ABX9TyM2r8MDSuzfENZP1LddcZjr",
      "include_colab_link": true
    },
    "kernelspec": {
      "name": "python3",
      "display_name": "Python 3"
    },
    "language_info": {
      "name": "python"
    }
  },
  "cells": [
    {
      "cell_type": "markdown",
      "metadata": {
        "id": "view-in-github",
        "colab_type": "text"
      },
      "source": [
        "<a href=\"https://colab.research.google.com/github/camilorp5/Python_desde_Cero/blob/main/2__(Teoria)_Pyhton_desde_0.ipynb\" target=\"_parent\"><img src=\"https://colab.research.google.com/assets/colab-badge.svg\" alt=\"Open In Colab\"/></a>"
      ]
    },
    {
      "cell_type": "markdown",
      "source": [
        "# Matrices"
      ],
      "metadata": {
        "id": "URzeT72uCa_3"
      }
    },
    {
      "cell_type": "code",
      "execution_count": null,
      "metadata": {
        "id": "pFwc-u0txaWw"
      },
      "outputs": [],
      "source": [
        "## Matrices\n",
        "\n",
        "matrix = [[1, 2, 3],\n",
        "          [4, 5, 6],\n",
        "          [7, 8, 9]]\n",
        "print(f\"{matrix[0]}\\n{matrix[1]}\\n{matrix[2]}\")\n",
        "\n",
        "matrix[0][1]\n"
      ]
    },
    {
      "cell_type": "code",
      "source": [
        "matrix = [[1, 2, 3],\n",
        "          [4, 5, 6],\n",
        "          [7, 8, 9]]\n",
        "for i in matrix:\n",
        "  print(i)\n",
        "\n",
        "for i in matrix:\n",
        "  for j in i:\n",
        "    print(j)\n",
        "\n",
        "for i in matrix:\n",
        "  for j in i:\n",
        "    print(j, end=\" \")\n",
        "  print()"
      ],
      "metadata": {
        "id": "4vz-U4-PyMJ2"
      },
      "execution_count": null,
      "outputs": []
    },
    {
      "cell_type": "code",
      "source": [
        "## Suma de matrices\n",
        "\n",
        "matrix_one = [[1, 2, 3],\n",
        "              [4, 5, 6],\n",
        "              [7, 8, 9]]\n",
        "matrix_two\t= [[9, 8, 7],\n",
        "               [6, 5, 4],\n",
        "               [3, 2, 1]]\n",
        "nueva_fila=[]\n",
        "matrix_three = []\n",
        "\n",
        "for j in range(len(matrix_one)):\n",
        "  for i in range(len(matrix_one)):\n",
        "    suma = matrix_one[j][i]+matrix_two[j][i]\n",
        "  nueva_fila.append(suma)\n",
        "  matrix_three.append(nueva_fila)\n",
        "\n",
        "for k in range(len(matrix_one)):\n",
        "  if k!=1:\n",
        "    print(f\"{matrix_one[k]}   {matrix_two[k]}   {matrix_three[k]}\")\n",
        "  else:\n",
        "    print(f\"{matrix_one[k]} + {matrix_two[k]} = {matrix_three[k]}\")\n"
      ],
      "metadata": {
        "id": "Hon7u-O80yg1",
        "colab": {
          "base_uri": "https://localhost:8080/"
        },
        "outputId": "9f1029e0-ba22-45f3-da3d-c3409afe68fe"
      },
      "execution_count": null,
      "outputs": [
        {
          "output_type": "stream",
          "name": "stdout",
          "text": [
            "[1, 2, 3]   [9, 8, 7]   [10, 10, 10]\n",
            "[4, 5, 6] + [6, 5, 4] = [10, 10, 10]\n",
            "[7, 8, 9]   [3, 2, 1]   [10, 10, 10]\n"
          ]
        }
      ]
    },
    {
      "cell_type": "code",
      "source": [
        "range(3)"
      ],
      "metadata": {
        "id": "PODKsWfDGyKz",
        "colab": {
          "base_uri": "https://localhost:8080/"
        },
        "outputId": "973893e1-7e10-4ec7-ae4c-fc6f89bfcdd5"
      },
      "execution_count": null,
      "outputs": [
        {
          "output_type": "execute_result",
          "data": {
            "text/plain": [
              "range(0, 3)"
            ]
          },
          "metadata": {},
          "execution_count": 1
        }
      ]
    },
    {
      "cell_type": "markdown",
      "source": [
        "# Diccionarios"
      ],
      "metadata": {
        "id": "1DqK0DHuCT8c"
      }
    },
    {
      "cell_type": "code",
      "source": [
        "## Diccionarios, también pueden ser homogéneos o heterogeneos\n",
        "## también puedo almacenar listas dentro de diccionarios,\n",
        "## a su vez también podemos almacenar diccionarios dentro de diccionarios\n",
        "\n",
        "Nombre = input(\"Ingrese su nombre: \")\n",
        "Apellido = input(\"Ingrese su apellido: \")\n",
        "\n",
        "nombre_dic = {\"Nombre\": Nombre,\n",
        "              \"Apellido\": Apellido\n",
        "              }\n",
        "\n",
        "print(f\"\\n{nombre_dic}\")\n",
        "print(nombre_dic[\"Nombre\"])\n",
        "print(nombre_dic[\"Apellido\"])"
      ],
      "metadata": {
        "id": "gT3oCINHHhNp",
        "colab": {
          "base_uri": "https://localhost:8080/"
        },
        "outputId": "6ca5bf78-7392-43d3-a1db-7a53a5c9d16b"
      },
      "execution_count": null,
      "outputs": [
        {
          "output_type": "stream",
          "name": "stdout",
          "text": [
            "Ingrese su nombre: Camilo\n",
            "Ingrese su apellido: Perez\n",
            "\n",
            "{'Nombre': 'Camilo', 'Apellido': 'Perez'}\n",
            "Camilo\n",
            "Perez\n"
          ]
        }
      ]
    },
    {
      "cell_type": "code",
      "source": [
        "## Acceder a los elementos de un diccionario\n",
        "\n",
        "nuevo_dic = {\"Nombres\":[\"Juan\", \"Matilde\", \"Oscar\"],\n",
        "             \"Edades\": {\"J\": 10, \"M\": 20, \"O\": 30}\n",
        "             }\n",
        "\n",
        "print(nuevo_dic[\"Nombres\"][1])\n",
        "print(nuevo_dic[\"Edades\"][\"J\"])"
      ],
      "metadata": {
        "colab": {
          "base_uri": "https://localhost:8080/"
        },
        "id": "uEY91Hz4Xua1",
        "outputId": "300484db-4320-453d-90a8-564c769113e8"
      },
      "execution_count": null,
      "outputs": [
        {
          "output_type": "stream",
          "name": "stdout",
          "text": [
            "Matilde\n",
            "10\n"
          ]
        }
      ]
    },
    {
      "cell_type": "code",
      "source": [
        "## items()\n",
        "\n",
        "print(nuevo_dic.items())\n",
        "\n",
        "funcion_items = list(nuevo_dic.items())\n",
        "funcion_items"
      ],
      "metadata": {
        "colab": {
          "base_uri": "https://localhost:8080/"
        },
        "id": "VP9edUyPal7m",
        "outputId": "943b9aea-54f0-4072-b591-cfe56580d47d"
      },
      "execution_count": null,
      "outputs": [
        {
          "output_type": "stream",
          "name": "stdout",
          "text": [
            "dict_items([('Nombres', ['Juan', 'Matilde', 'Oscar']), ('Edades', {'J': 10, 'M': 20, 'O': 30})])\n"
          ]
        },
        {
          "output_type": "execute_result",
          "data": {
            "text/plain": [
              "[('Nombres', ['Juan', 'Matilde', 'Oscar']),\n",
              " ('Edades', {'J': 10, 'M': 20, 'O': 30})]"
            ]
          },
          "metadata": {},
          "execution_count": 18
        }
      ]
    },
    {
      "cell_type": "code",
      "source": [
        "## keys() utilizado para agrupar las claves del diccionario en una lista\n",
        "\n",
        "print(nuevo_dic.keys())\n",
        "\n",
        "print(f\"Lista de las keys: {list(nuevo_dic.keys())}\")"
      ],
      "metadata": {
        "colab": {
          "base_uri": "https://localhost:8080/"
        },
        "id": "vrX6KhHYczUi",
        "outputId": "124465e5-3f64-4579-fad0-28f04edc3df2"
      },
      "execution_count": null,
      "outputs": [
        {
          "output_type": "stream",
          "name": "stdout",
          "text": [
            "dict_keys(['Nombres', 'Edades'])\n",
            "Lista de las keys: ['Nombres', 'Edades']\n"
          ]
        }
      ]
    },
    {
      "cell_type": "code",
      "source": [
        "## values() Utilizado para obtener una lista de todos los valores del\n",
        "## diccionario\n",
        "\n",
        "print(nuevo_dic.values())\n",
        "\n",
        "print(f\"Lista de los values: {list(nuevo_dic.values())}\")"
      ],
      "metadata": {
        "colab": {
          "base_uri": "https://localhost:8080/"
        },
        "id": "xgAetvyQeiK_",
        "outputId": "5968ae18-d5bb-4262-ed90-ca48739a467f"
      },
      "execution_count": null,
      "outputs": [
        {
          "output_type": "stream",
          "name": "stdout",
          "text": [
            "dict_values([['Juan', 'Matilde', 'Oscar'], {'J': 10, 'M': 20, 'O': 30}])\n",
            "Lista de los values: [['Juan', 'Matilde', 'Oscar'], {'J': 10, 'M': 20, 'O': 30}]\n"
          ]
        }
      ]
    },
    {
      "cell_type": "code",
      "source": [
        "## clear() Utilizado para eliminar todos los elementos de un objeto en Python\n",
        "\n",
        "nuevo_dic.clear()\n",
        "print(nuevo_dic)"
      ],
      "metadata": {
        "colab": {
          "base_uri": "https://localhost:8080/"
        },
        "id": "-coQUuyue-Fo",
        "outputId": "25e33bc1-6bfb-4ee5-d9a0-a4c62d1618b9"
      },
      "execution_count": null,
      "outputs": [
        {
          "output_type": "stream",
          "name": "stdout",
          "text": [
            "{}\n"
          ]
        }
      ]
    },
    {
      "cell_type": "code",
      "source": [
        "## modificar y agregar elementos a un diccionario\n",
        "\n",
        "este_dic = {\"Francia\": \"Bogotá\",\n",
        "            \"Alemania\": \"Berlín\"\n",
        "}\n",
        "\n",
        "print(este_dic)\n",
        "\n",
        "## Modificar\n",
        "este_dic[\"Francia\"] = \"Paris\"\n",
        "print(este_dic)\n",
        "\n",
        "## Agregar\n",
        "este_dic[\"Italia\"] = \"Roma\"\n",
        "print(este_dic)"
      ],
      "metadata": {
        "colab": {
          "base_uri": "https://localhost:8080/"
        },
        "id": "ROdoG83EfYg8",
        "outputId": "ca26daea-aea1-47d9-897d-13324159cd15"
      },
      "execution_count": null,
      "outputs": [
        {
          "output_type": "stream",
          "name": "stdout",
          "text": [
            "{'Francia': 'Bogotá', 'Alemania': 'Berlín'}\n",
            "{'Francia': 'Paris', 'Alemania': 'Berlín'}\n",
            "{'Francia': 'Paris', 'Alemania': 'Berlín', 'Italia': 'Roma'}\n"
          ]
        }
      ]
    },
    {
      "cell_type": "code",
      "source": [
        "## copy() crear una copia de un objeto en Python\n",
        "\n",
        "precios_dic = {\"Manzana\": 3.4,\n",
        "               \"Pera\": 5.0\n",
        "}\n",
        "\n",
        "precios_dic_copia = precios_dic.copy()\n",
        "print(f\"Esta es la copia: {precios_dic_copia}\")\n",
        "\n",
        "precios_dic_copia.clear()\n",
        "print(f\"Hemos borrado la copia: {precios_dic_copia}\")\n",
        "print(f\"Este es el original: {precios_dic}\")"
      ],
      "metadata": {
        "colab": {
          "base_uri": "https://localhost:8080/"
        },
        "id": "96iQzJKdgNqE",
        "outputId": "29563f7b-7c3a-49ed-a9ca-5ad47dcbbb3b"
      },
      "execution_count": null,
      "outputs": [
        {
          "output_type": "stream",
          "name": "stdout",
          "text": [
            "Esta es la copia: {'Manzana': 3.4, 'Pera': 5.0}\n",
            "Hemos borrado la copia: {}\n",
            "Este es el original: {'Manzana': 3.4, 'Pera': 5.0}\n"
          ]
        }
      ]
    },
    {
      "cell_type": "code",
      "source": [
        "## fromkeys() Crear un nuevo diccionario tomando una secuencia de claves y\n",
        "## un valor determinado\n",
        "\n",
        "precios_dic = dict.fromkeys([\"Manzana\", \"Pera\"], 3.4)\n",
        "print(precios_dic)\n",
        "\n",
        "## Notemos que la clave \"Mango\" fue agregada\n",
        "sequence = (\"Manzana\", \"Pera\", \"Mango\")\n",
        "precios_dic = dict.fromkeys(sequence)\n",
        "print(precios_dic)\n",
        "\n",
        "## Tomemos como secuencia un diccionario\n",
        "sequence = {\"Manzana\":2,\n",
        "            \"Pera\":3,\n",
        "            \"Mango\":4,\n",
        "            \"Naranja\":5\n",
        "}\n",
        "precios_dic = dict.fromkeys(sequence, 10)\n",
        "print(precios_dic)\n",
        "\n",
        "## Tomemos como secuencia un String\n",
        "precios_dic_str = dict.fromkeys(\"Mañas\", [1,2,3])\n",
        "print(precios_dic_str)"
      ],
      "metadata": {
        "colab": {
          "base_uri": "https://localhost:8080/"
        },
        "id": "oy0hRYsYgyWJ",
        "outputId": "7142caaa-fc82-4109-b765-16201740c8dd"
      },
      "execution_count": null,
      "outputs": [
        {
          "output_type": "stream",
          "name": "stdout",
          "text": [
            "{'Manzana': 3.4, 'Pera': 3.4}\n",
            "{'Manzana': None, 'Pera': None, 'Mango': None}\n",
            "{'Manzana': 10, 'Pera': 10, 'Mango': 10, 'Naranja': 10}\n",
            "{'M': [1, 2, 3], 'a': [1, 2, 3], 'ñ': [1, 2, 3], 's': [1, 2, 3]}\n"
          ]
        }
      ]
    },
    {
      "cell_type": "code",
      "source": [
        "## get() utilizado para obtener los valores que están asociados\n",
        "## a cada una de las claves dle diccionario\n",
        "\n",
        "dicc_hola = {\"Manzana\": 3.4,\n",
        "               \"Pera\": 5.0\n",
        "}\n",
        "\n",
        "print(dicc_hola.get(\"Manzana\"))\n",
        "print(dicc_hola.get(\"Mango\"))\n",
        "print(dicc_hola.get(\"Mango\",100))"
      ],
      "metadata": {
        "colab": {
          "base_uri": "https://localhost:8080/"
        },
        "id": "S9kOb_Agh7SZ",
        "outputId": "bebb9cbb-765d-4d1d-9492-995bb81e1767"
      },
      "execution_count": null,
      "outputs": [
        {
          "output_type": "stream",
          "name": "stdout",
          "text": [
            "3.4\n",
            "None\n",
            "100\n"
          ]
        }
      ]
    },
    {
      "cell_type": "code",
      "source": [
        "## popitem()\n",
        "\n",
        "dicc_holas = {\"Manzana\": 3.4,\n",
        "              \"Pera\": 5.0,\n",
        "              \"Piña\" : 10.0\n",
        "}\n",
        "\n",
        "print(f\"Método popitem()\\nEl elemento eliminado es: {dicc_holas.popitem()}\")\n",
        "print(dicc_holas)\n",
        "\n",
        "dicc_holas = {\"Manzana\": 3.4,\n",
        "              \"Pera\": 5.0,\n",
        "              \"Piña\" : 10.0\n",
        "}\n",
        "\n",
        "print(f\"\\nMétodo pop()\\nEl elemento eliminado: {dicc_holas.pop('Manzana')}\")\n",
        "print(dicc_holas)\n",
        "\n",
        "dicc_holas = {\"Manzana\": 3.4,\n",
        "              \"Pera\": 5.0,\n",
        "              \"Piña\" : 10.0\n",
        "}\n",
        "print(f\"\\nMétodo pop()\\nEl elemento eliminado: {dicc_holas.pop('Naranja', 'No se encuentra la clave')}\")\n",
        "print(dicc_holas)"
      ],
      "metadata": {
        "id": "kbW5rd1FkLJG",
        "colab": {
          "base_uri": "https://localhost:8080/"
        },
        "outputId": "9d2c16ae-495f-4ccf-839f-6d33762ee94c"
      },
      "execution_count": null,
      "outputs": [
        {
          "output_type": "stream",
          "name": "stdout",
          "text": [
            "Método popitem()\n",
            "El elemento eliminado es: ('Piña', 10.0)\n",
            "{'Manzana': 3.4, 'Pera': 5.0}\n",
            "\n",
            "Método pop()\n",
            "El elemento eliminado: 3.4\n",
            "{'Pera': 5.0, 'Piña': 10.0}\n",
            "\n",
            "Método pop()\n",
            "El elemento eliminado: No se encuentra la clave\n",
            "{'Manzana': 3.4, 'Pera': 5.0, 'Piña': 10.0}\n"
          ]
        }
      ]
    },
    {
      "cell_type": "code",
      "source": [
        "## setdefault(key, value) Lo ideal es trabajarlo con siempre 2 argumentos\n",
        "\n",
        "dicc_holas = {\"Matemáticas\": 3.4,\n",
        "              \"Biología\": 5.0,\n",
        "              \"Química\" : 10.0\n",
        "}\n",
        "\n",
        "print(dicc_holas.setdefault(\"Matemáticas\", 100))\n",
        "print(dicc_holas.setdefault(\"Historia\", 6.5))\n",
        "print(dicc_holas)"
      ],
      "metadata": {
        "colab": {
          "base_uri": "https://localhost:8080/"
        },
        "id": "0LDqYdaSs_Aq",
        "outputId": "f318683b-9e4b-40d5-924b-8a7de4cca44c"
      },
      "execution_count": null,
      "outputs": [
        {
          "output_type": "stream",
          "name": "stdout",
          "text": [
            "3.4\n",
            "6.5\n",
            "{'Matemáticas': 3.4, 'Biología': 5.0, 'Química': 10.0, 'Historia': 6.5}\n"
          ]
        }
      ]
    },
    {
      "cell_type": "code",
      "source": [
        "## update() actualizar y/o agregar elementos a un diccionario\n",
        "## dict_name.update(dictionary)\n",
        "\n",
        "dict_name = {\"a\":1,\n",
        "             \"b\":2,\n",
        "             \"c\":3\n",
        "             }\n",
        "dict_name.update({\"z\":4})\n",
        "print(dict_name)\n",
        "\n",
        "dict_name.update({\"a\":10, \"b\":20})\n",
        "print(f\"{dict_name}\\n\")\n",
        "\n",
        "## Ciclo for() - Primer método\n",
        "\n",
        "print(\"Primer método\")\n",
        "for key in dict_name:\n",
        "  print(f\"{key}, {dict_name[key]}\")\n",
        "\n",
        "\n",
        "## Ciclo for() - Segundo método\n",
        "\n",
        "print(\"\\nSegundo método\")\n",
        "for key, value in dict_name.items():\n",
        "  print(f\"{key}, {value}\")"
      ],
      "metadata": {
        "colab": {
          "base_uri": "https://localhost:8080/"
        },
        "id": "AM0vPYCKvLG3",
        "outputId": "5fb45a11-e4ae-4c67-8497-afb6d2e2d913"
      },
      "execution_count": null,
      "outputs": [
        {
          "output_type": "stream",
          "name": "stdout",
          "text": [
            "{'a': 1, 'b': 2, 'c': 3, 'z': 4}\n",
            "{'a': 10, 'b': 20, 'c': 3, 'z': 4}\n",
            "\n",
            "Primer método\n",
            "a, 10\n",
            "b, 20\n",
            "c, 3\n",
            "z, 4\n",
            "\n",
            "Segundo método\n",
            "a, 10\n",
            "b, 20\n",
            "c, 3\n",
            "z, 4\n"
          ]
        }
      ]
    },
    {
      "cell_type": "code",
      "source": [],
      "metadata": {
        "id": "jX5WWALUwSc8"
      },
      "execution_count": null,
      "outputs": []
    },
    {
      "cell_type": "markdown",
      "source": [
        "# Tuplas"
      ],
      "metadata": {
        "id": "hp0KLWt-6MrL"
      }
    },
    {
      "cell_type": "code",
      "source": [
        "## Se usan para almacenar información del mismo o diferente tipo\n",
        "## Las tuplas no se pueden modificar luego de ser creadas, pero si se\n",
        "## pueden modificar las listas y diccionarios dentro de la tupla\n",
        "## nombre_tupla = ()\n",
        "\n",
        "tupla_vacia = (1,\"Joaquín\", [2.5, 3.6])\n",
        "print(tupla_vacia)\n",
        "\n",
        "tupla_vacia_dos = 1, 2.3, {\"Camilo\":18,\"Felipe\":16}\n",
        "print(tupla_vacia_dos)\n",
        "\n",
        "tupla_vacia_tres = (1,)\n",
        "print(tupla_vacia_tres)\n"
      ],
      "metadata": {
        "colab": {
          "base_uri": "https://localhost:8080/"
        },
        "id": "MGLlVYU86PUi",
        "outputId": "5cebb78e-edee-4813-a2a9-78bf35ce9d2f"
      },
      "execution_count": null,
      "outputs": [
        {
          "output_type": "stream",
          "name": "stdout",
          "text": [
            "(1, 'Joaquín', [2.5, 3.6])\n",
            "(1, 2.3, {'Camilo': 18, 'Felipe': 16})\n",
            "(1,)\n"
          ]
        }
      ]
    },
    {
      "cell_type": "code",
      "source": [
        "## Acceder elementos de una tupla\n",
        "\n",
        "mi_tupla = (1,2,3,4,5)\n",
        "print(f\"Tupla: {mi_tupla}\")\n",
        "\n",
        "## Mediante índices\n",
        "print(f\"Índices:\\n{mi_tupla[3]}\")\n",
        "\n",
        "## Mediante el operador de segmentación\n",
        "## nombre_tupla[inicio:final:saltos]\n",
        "print(f\"Segmentación:\\n{mi_tupla[1:4]}\")\n",
        "print(mi_tupla[1:4:2])\n",
        "\n",
        "## Mediante desempaquetado de tuplas\n",
        "## var_uno, var_dos = nombre_tupla[inicio:final:saltos]\n",
        "\n",
        "print(f\"Desempaquetado:\")\n",
        "var_uno, var_dos, var_tres = mi_tupla[1:4]\n",
        "print(var_uno)\n",
        "print(var_dos)\n",
        "print(var_tres)"
      ],
      "metadata": {
        "colab": {
          "base_uri": "https://localhost:8080/"
        },
        "id": "yoobVX6b6mj0",
        "outputId": "39168463-9a32-40ee-ef4b-9ac65cb57246"
      },
      "execution_count": null,
      "outputs": [
        {
          "output_type": "stream",
          "name": "stdout",
          "text": [
            "Tupla: (1, 2, 3, 4, 5)\n",
            "Índices:\n",
            "4\n",
            "Segmentación:\n",
            "(2, 3, 4)\n",
            "(2, 4)\n",
            "Desempaquetado:\n",
            "2\n",
            "3\n",
            "4\n"
          ]
        }
      ]
    },
    {
      "cell_type": "code",
      "source": [
        "## Inmutabilidad de una tupla\n",
        "\n",
        "vocales_tupla = (\"a\", \"e\", \"i\", [1, 2, 3], \"o\",{\"Camilo\":18,\"Felipe\":16} , \"u\")\n",
        "vocales_tupla[0] = \"A\" ## No se puede modificar"
      ],
      "metadata": {
        "id": "U5poeWAY8Hf1"
      },
      "execution_count": null,
      "outputs": []
    },
    {
      "cell_type": "code",
      "source": [
        "vocales_tupla[3][1] = 10 ## Si se puede modificar\n",
        "print(vocales_tupla)\n",
        "\n",
        "vocales_tupla[5][\"Felipe\"] = 10 ## Si se puede modificar\n",
        "print(vocales_tupla)"
      ],
      "metadata": {
        "colab": {
          "base_uri": "https://localhost:8080/"
        },
        "id": "M5sqxTmu-zsk",
        "outputId": "907c791b-86df-40f7-8c7d-b663b5ea3c9c"
      },
      "execution_count": null,
      "outputs": [
        {
          "output_type": "stream",
          "name": "stdout",
          "text": [
            "('a', 'e', 'i', [1, 10, 3], 'o', {'Camilo': 18, 'Felipe': 16}, 'u')\n",
            "('a', 'e', 'i', [1, 10, 3], 'o', {'Camilo': 18, 'Felipe': 10}, 'u')\n"
          ]
        }
      ]
    },
    {
      "cell_type": "code",
      "source": [
        "## Recorrer las tuplas con ayuda del ciclo for\n",
        "\n",
        "vocales_tupla = (\"a\", \"e\", \"i\", \"o\", \"u\")\n",
        "\n",
        "for i in vocales_tupla:\n",
        "  print(i)\n"
      ],
      "metadata": {
        "colab": {
          "base_uri": "https://localhost:8080/"
        },
        "id": "dcK6GNvN_DEi",
        "outputId": "1b7ef14f-d83d-484b-acaf-ab3c033ad7db"
      },
      "execution_count": null,
      "outputs": [
        {
          "output_type": "stream",
          "name": "stdout",
          "text": [
            "a\n",
            "e\n",
            "i\n",
            "o\n",
            "u\n"
          ]
        }
      ]
    },
    {
      "cell_type": "code",
      "source": [
        "## Desempaquetado de tuplas con ayuda del ciclo for\n",
        "\n",
        "tuple_prueba = (\"001\", \"Manzana\", \"Rojo\"), (\"002\", \"Pera\", \"Verde\")\n",
        "for codigo, fruta, color in tuple_prueba:\n",
        "  print(f\"La fruta de código {codigo} es {fruta} y es de color {color}\")"
      ],
      "metadata": {
        "colab": {
          "base_uri": "https://localhost:8080/"
        },
        "id": "QS0406BO_Qxx",
        "outputId": "be6d81f4-7dce-42b9-f8ec-22cb9d1045aa"
      },
      "execution_count": null,
      "outputs": [
        {
          "output_type": "stream",
          "name": "stdout",
          "text": [
            "La fruta de código 001 es Manzana y es de color Rojo\n",
            "La fruta de código 002 es Pera y es de color Verde\n"
          ]
        }
      ]
    },
    {
      "cell_type": "code",
      "source": [
        "## Función tuple,  permite convertir un objeto iterable en una tupla\n",
        "## Esta función permite un máximo de 1 elemento\n",
        "\n",
        "print(tuple(range(10)))\n",
        "\n",
        "hola = \"Hola\"\n",
        "print(tuple(hola))\n",
        "\n",
        "dict_prueba = {\"a\":1,\n",
        "               \"b\":2,\n",
        "               \"c\":3\n",
        "}\n",
        "print(tuple(dict_prueba))\n",
        "print(tuple(dict_prueba.values()))\n",
        "print(f\"\\nConvertir un diccionario a tupla: {tuple(dict_prueba.items())}\")"
      ],
      "metadata": {
        "colab": {
          "base_uri": "https://localhost:8080/"
        },
        "id": "NZ8Zbt9I_wZH",
        "outputId": "fe0fe900-e7ed-4bb9-b590-89444da36f42"
      },
      "execution_count": null,
      "outputs": [
        {
          "output_type": "stream",
          "name": "stdout",
          "text": [
            "(0, 1, 2, 3, 4, 5, 6, 7, 8, 9)\n",
            "('H', 'o', 'l', 'a')\n",
            "('a', 'b', 'c')\n",
            "(1, 2, 3)\n",
            "\n",
            "Convertir un diccionario a tupla: (('a', 1), ('b', 2), ('c', 3))\n"
          ]
        }
      ]
    },
    {
      "cell_type": "code",
      "source": [
        "## Concatenar tuplas\n",
        "\n",
        "tuple_uno = (1,2,3)\n",
        "tuple_dos = (4,5,6)\n",
        "tuple_tres = tuple_uno + tuple_dos\n",
        "print(tuple_tres)"
      ],
      "metadata": {
        "colab": {
          "base_uri": "https://localhost:8080/"
        },
        "id": "VsyFDGVnAmXG",
        "outputId": "fa947037-9533-4daa-8dbc-56f1123168e6"
      },
      "execution_count": null,
      "outputs": [
        {
          "output_type": "stream",
          "name": "stdout",
          "text": [
            "(1, 2, 3, 4, 5, 6)\n"
          ]
        }
      ]
    },
    {
      "cell_type": "code",
      "source": [
        "## Concatenar tuplas\n",
        "\n",
        "tuple_uno = (1,2,3)\n",
        "tuple_dos = (4,5,6)\n",
        "tuple_uno += tuple_dos\n",
        "print(tuple_uno)"
      ],
      "metadata": {
        "colab": {
          "base_uri": "https://localhost:8080/"
        },
        "id": "-l4X-BONB0GI",
        "outputId": "09837f7c-f383-463e-8aed-fd5f4c3001c8"
      },
      "execution_count": null,
      "outputs": [
        {
          "output_type": "stream",
          "name": "stdout",
          "text": [
            "(1, 2, 3, 4, 5, 6)\n",
            "(4, 5, 6)\n"
          ]
        }
      ]
    },
    {
      "cell_type": "code",
      "source": [
        "## Concatenar tuplas\n",
        "\n",
        "tupla_uno = (1,2,3)\n",
        "lista = [4,5,6]\n",
        "\n",
        "tupla_concatenada = tupla_uno + tuple(lista)\n",
        "print(tupla_concatenada)"
      ],
      "metadata": {
        "colab": {
          "base_uri": "https://localhost:8080/"
        },
        "id": "EczjeP3AB8X4",
        "outputId": "744b2120-600f-4e55-b012-ff3daa044621"
      },
      "execution_count": null,
      "outputs": [
        {
          "output_type": "stream",
          "name": "stdout",
          "text": [
            "(1, 2, 3, 4, 5, 6)\n"
          ]
        }
      ]
    },
    {
      "cell_type": "code",
      "source": [
        "## Función zip()\n",
        "## zip(objeto_iterable, objeto_iterable)\n",
        "## Se detiene al momento de alcanzar el objeto que tiene la longitud más corta\n",
        "\n",
        "nombres = (\"Juan\", \"Matilde\", \"Oscar\")\n",
        "lista_uno = [1,2,3,4,5]\n",
        "\n",
        "combinacion = zip(nombres, lista_uno)\n",
        "print(list(combinacion))\n",
        "\n",
        "nombres_dos = (\"Juan\", \"Matilde\", \"Oscar\", \"Luna\", \"Cata\")\n",
        "lista_dos = [1,2,3,4]\n",
        "\n",
        "for nombre_dos, lista_dos in zip(nombres_dos, lista_dos):\n",
        "  print(nombre_dos, lista_dos)"
      ],
      "metadata": {
        "colab": {
          "base_uri": "https://localhost:8080/"
        },
        "id": "WDqcPRT2CZcW",
        "outputId": "ba376104-e8f7-483f-bc25-0cd7c55b77e5"
      },
      "execution_count": null,
      "outputs": [
        {
          "output_type": "stream",
          "name": "stdout",
          "text": [
            "[('Juan', 1), ('Matilde', 2), ('Oscar', 3)]\n",
            "Juan 1\n",
            "Matilde 2\n",
            "Oscar 3\n",
            "Luna 4\n"
          ]
        }
      ]
    },
    {
      "cell_type": "code",
      "source": [],
      "metadata": {
        "id": "8sU0xubaC87t"
      },
      "execution_count": null,
      "outputs": []
    },
    {
      "cell_type": "markdown",
      "source": [
        "# Conjuntos"
      ],
      "metadata": {
        "id": "BW55mT1DW0OI"
      }
    },
    {
      "cell_type": "code",
      "source": [
        "## Es una collección desordenada,  es decir, python no conservará el orden\n",
        "## de los elementos. Solo almacenan elementos inmutables\n",
        "## No pueden contener listas, diccionarios o conjuntos\n",
        "## No puedo acceder a los elementos de un conjunto a traves de su posición\n",
        "\n",
        "conjunto = {5, 2, 4, 2, 4, 4} ## Elementos duplicados\n",
        "print(conjunto)\n",
        "\n",
        "conjunto_dos = {5, 2, 4, -1, -5, 2.5, -3} ## Enteros negativos\n",
        "print(conjunto_dos)\n",
        "\n",
        "conjunto_vocales = {\"a\", \"i\", \"e\", \"u\", \"o\"}\n",
        "print(conjunto_vocales) ## El conjunto no ordena los elementos\n",
        "\n",
        "conjunto_vacio = set(range(8))\n",
        "print(conjunto_vacio)"
      ],
      "metadata": {
        "colab": {
          "base_uri": "https://localhost:8080/"
        },
        "id": "TJeBBWC5W3lL",
        "outputId": "41e87212-43b1-4c22-b3e3-9c7903ff543b"
      },
      "execution_count": null,
      "outputs": [
        {
          "output_type": "stream",
          "name": "stdout",
          "text": [
            "{2, 4, 5}\n",
            "{2, 2.5, 4, 5, -5, -3, -1}\n",
            "{'i', 'o', 'a', 'u', 'e'}\n",
            "{0, 1, 2, 3, 4, 5, 6, 7}\n"
          ]
        }
      ]
    },
    {
      "cell_type": "code",
      "source": [
        "## Subconjunto\n",
        "\n",
        "conjunto_A = {1, 2, 3, 4, 5}\n",
        "conjunto_B = {1, 2, 3}\n",
        "\n",
        "print(conjunto_B.issubset(conjunto_A))\n",
        "## Todos los elementos de B están también en A\n",
        "\n",
        "conjunto_C = {1, 2, 3, 4, 5}\n",
        "conjunto_D = {1, 2, 3, 4, 5}\n",
        "\n",
        "print(conjunto_C.issubset(conjunto_D))\n",
        "## Todos los elementos de C están también en D\n",
        "\n",
        "print(conjunto_C <= conjunto_D) ## Subconjunto inclusivo\n",
        "\n",
        "## Subconjunto estricto\n",
        "print(conjunto_C < conjunto_D)\n",
        "\n",
        "conjunto_E = {1, 2, 3, 4, 5}\n",
        "conjunto_F = {1, 4, 5}\n",
        "\n",
        "print(conjunto_E < conjunto_F)\n",
        "#"
      ],
      "metadata": {
        "colab": {
          "base_uri": "https://localhost:8080/"
        },
        "id": "gJG791LMXPMN",
        "outputId": "cc8b1aff-8688-47c6-909c-ff0b12300c40"
      },
      "execution_count": null,
      "outputs": [
        {
          "output_type": "stream",
          "name": "stdout",
          "text": [
            "True\n",
            "True\n",
            "True\n",
            "False\n",
            "False\n"
          ]
        }
      ]
    },
    {
      "cell_type": "code",
      "source": [
        "## Superconjunto\n",
        "\n",
        "A = {1, 2, 3, 4, 5}\n",
        "B = {1, 3}\n",
        "\n",
        "print(A.issuperset(B))\n",
        "## Todos los elementos de B están también en A\n",
        "\n",
        "A = {1, 2, 3, 4, 5}\n",
        "B = {1, 2, 3, 4, 5}\n",
        "\n",
        "print(A.issuperset(B))\n",
        "print(A > B) ## Superconjunto estricto\n",
        "print(A >= B) ## Superconjunto inclusivo\n"
      ],
      "metadata": {
        "id": "oSz1TSDMZqrK",
        "colab": {
          "base_uri": "https://localhost:8080/"
        },
        "outputId": "3b492e70-2dab-46fd-a93b-a397dca218ae"
      },
      "execution_count": null,
      "outputs": [
        {
          "output_type": "stream",
          "name": "stdout",
          "text": [
            "True\n",
            "True\n",
            "False\n",
            "True\n"
          ]
        }
      ]
    },
    {
      "cell_type": "code",
      "source": [
        "## Unión de conjuntos\n",
        "\n",
        "A = {1, 2, 3, 4, 5}\n",
        "B = {3, 4, 5, 6, 7}\n",
        "\n",
        "print(A.union(B))\n",
        "print(A | B)"
      ],
      "metadata": {
        "colab": {
          "base_uri": "https://localhost:8080/"
        },
        "id": "yitq_nuG6O3E",
        "outputId": "c9b111b9-8afc-44c8-a2da-f68911ad02fa"
      },
      "execution_count": null,
      "outputs": [
        {
          "output_type": "stream",
          "name": "stdout",
          "text": [
            "{1, 2, 3, 4, 5, 6, 7}\n",
            "{1, 2, 3, 4, 5, 6, 7}\n"
          ]
        }
      ]
    },
    {
      "cell_type": "code",
      "source": [
        "## Intersección de conjuntos\n",
        "\n",
        "A = {1, 2, 3, 4, 5}\n",
        "B = {3, 4, 5, 6, 7}\n",
        "\n",
        "print(A.intersection(B))\n",
        "print(A & B)\n",
        "#\n",
        "\n",
        "A = {1, 2}\n",
        "B = {6, 7}\n",
        "\n",
        "print(A.intersection(B))\n",
        "print(A & B)\n",
        "#"
      ],
      "metadata": {
        "colab": {
          "base_uri": "https://localhost:8080/"
        },
        "id": "4OSgfuJU7ayo",
        "outputId": "0e9b14e8-7411-42ac-8228-b4d9f7115d43"
      },
      "execution_count": null,
      "outputs": [
        {
          "output_type": "stream",
          "name": "stdout",
          "text": [
            "{3, 4, 5}\n",
            "{3, 4, 5}\n",
            "set()\n",
            "set()\n"
          ]
        }
      ]
    },
    {
      "cell_type": "code",
      "source": [
        "## Diferencia entre conjuntos\n",
        "\n",
        "A = {1, 2, 3, 4, 5}\n",
        "B = {3, 4, 5, 6, 7}\n",
        "\n",
        "print(A.difference(B))\n",
        "print(A - B)\n",
        "\n",
        "print(B.difference(A))\n",
        "print(B - A)\n",
        "\n",
        "print(B.difference(B))\n",
        "print(A - A)"
      ],
      "metadata": {
        "colab": {
          "base_uri": "https://localhost:8080/"
        },
        "id": "SjhoP_l973Mr",
        "outputId": "e63a1f99-d14c-4647-ee73-427c563ff1f8"
      },
      "execution_count": null,
      "outputs": [
        {
          "output_type": "stream",
          "name": "stdout",
          "text": [
            "{1, 2}\n",
            "{1, 2}\n",
            "{6, 7}\n",
            "{6, 7}\n",
            "set()\n",
            "set()\n"
          ]
        }
      ]
    },
    {
      "cell_type": "code",
      "source": [
        "## Diferencia simétrica entre dos conjuntos\n",
        "\n",
        "A = {1, 2, 3, 4, 5}\n",
        "B = {3, 4, 5, 6, 7}\n",
        "\n",
        "print(A.symmetric_difference(B))\n",
        "print(A ^ B)\n",
        "\n",
        "print(B.symmetric_difference(A))\n",
        "print(B ^ A)\n",
        "\n",
        "print(B.symmetric_difference(B))\n",
        "print(A ^ A)"
      ],
      "metadata": {
        "colab": {
          "base_uri": "https://localhost:8080/"
        },
        "id": "Kuhng-fC8Cha",
        "outputId": "2479112c-b2d8-49b5-c67b-81aa285c838c"
      },
      "execution_count": null,
      "outputs": [
        {
          "output_type": "stream",
          "name": "stdout",
          "text": [
            "{1, 2, 6, 7}\n",
            "{1, 2, 6, 7}\n",
            "{1, 2, 6, 7}\n",
            "{1, 2, 6, 7}\n",
            "set()\n",
            "set()\n"
          ]
        }
      ]
    },
    {
      "cell_type": "code",
      "source": [
        "## Agregar un nuevo elemento a un conjunto\n",
        "## add()\n",
        "\n",
        "A = {1, 2, 3, 4, 5}\n",
        "A.add(6)\n",
        "print(A)"
      ],
      "metadata": {
        "colab": {
          "base_uri": "https://localhost:8080/"
        },
        "id": "aVzvSl1F8nVC",
        "outputId": "a7c7a754-1908-49e3-f48c-4c921c78e0ed"
      },
      "execution_count": null,
      "outputs": [
        {
          "output_type": "stream",
          "name": "stdout",
          "text": [
            "{1, 2, 3, 4, 5, 6}\n"
          ]
        }
      ]
    },
    {
      "cell_type": "code",
      "source": [
        "##  Agregar nuevos elementos a un conjunto\n",
        "## update(objeto_iterable) Recibe elementos iterables\n",
        "\n",
        "A = {1, 2, 3, 4, 5}\n",
        "A.update([6, 7, 8])\n",
        "print(A)\n",
        "\n",
        "B = {1, 2, 3, 4, 5}\n",
        "B.update(range(2))\n",
        "print(B)"
      ],
      "metadata": {
        "colab": {
          "base_uri": "https://localhost:8080/"
        },
        "id": "Y2lcEu4Z9F-k",
        "outputId": "7c70f204-ae12-49ff-c5b6-770110f5a205"
      },
      "execution_count": null,
      "outputs": [
        {
          "output_type": "stream",
          "name": "stdout",
          "text": [
            "{1, 2, 3, 4, 5, 6, 7, 8}\n",
            "{0, 1, 2, 3, 4, 5}\n"
          ]
        }
      ]
    },
    {
      "cell_type": "code",
      "source": [
        "## Eliminar elementos de un conjunto\n",
        "## remove(elemento) Asegurarse que el elemento esta en el conjunto\n",
        "\n",
        "A = {1, 2, 3, 4, 5}\n",
        "A.remove(5)\n",
        "print(A)\n",
        "\n",
        "## discard() No ocurrirá un error si el elemento a eliminar no se encuentra\n",
        "## en el conjunto\n",
        "\n",
        "A = {1, 2, 3, 4, 5}\n",
        "A.discard(8)\n",
        "print(A)\n",
        "\n",
        "##"
      ],
      "metadata": {
        "colab": {
          "base_uri": "https://localhost:8080/"
        },
        "id": "OdaYnZu19Sun",
        "outputId": "f1d1031d-c562-4a99-cce2-afc7b2a7b66e"
      },
      "execution_count": null,
      "outputs": [
        {
          "output_type": "stream",
          "name": "stdout",
          "text": [
            "{1, 2, 3, 4}\n",
            "{1, 2, 3, 4, 5}\n"
          ]
        }
      ]
    },
    {
      "cell_type": "code",
      "source": [
        "## Recorrer un conjunto con los bucles for y while\n",
        "\n",
        "A = {1, 2, 3, 4, 5}\n",
        "\n",
        "for i in A:\n",
        "  print(i)\n",
        "\n",
        "print(\"1ra opción while()\")\n",
        "B = {1, 2, 3, 4, 5}\n",
        "while B:\n",
        "  print(B.pop())\n",
        "#\n",
        "\n",
        "print(\"2da opción while()\")\n",
        "list_A = list(A)\n",
        "indicador=0\n",
        "while indicador < len(list_A):\n",
        "  print(list_A[indicador])\n",
        "  indicador += 1\n",
        "#"
      ],
      "metadata": {
        "colab": {
          "base_uri": "https://localhost:8080/"
        },
        "id": "KiprRvZq95rm",
        "outputId": "d122edc1-ee7c-429f-c689-5fd0d731cf5e"
      },
      "execution_count": null,
      "outputs": [
        {
          "output_type": "stream",
          "name": "stdout",
          "text": [
            "1\n",
            "2\n",
            "3\n",
            "4\n",
            "5\n",
            "1ra opción while()\n",
            "1\n",
            "2\n",
            "3\n",
            "4\n",
            "5\n",
            "2da opción while()\n",
            "1\n",
            "2\n",
            "3\n",
            "4\n",
            "5\n"
          ]
        }
      ]
    },
    {
      "cell_type": "code",
      "source": [],
      "metadata": {
        "id": "vWzSehl8_WBQ"
      },
      "execution_count": null,
      "outputs": []
    },
    {
      "cell_type": "markdown",
      "source": [
        "# Expresiones de compresión"
      ],
      "metadata": {
        "id": "Q95QrtDt_g-s"
      }
    },
    {
      "cell_type": "code",
      "source": [
        "## Una forma concisa y legible de hacer operaciones en iterables\n",
        "\n",
        "'''\n",
        "Lista de comprensión: Crea una nueva lista aplicando una expresión a cada\n",
        "elemento de un iterable\n",
        "\n",
        "Conjunto de comprensión: Es igual que la lista oero crea un conjunto\n",
        "\n",
        "Diccionario de comprensión: Crea un nuevo diccionario aplicandouna expresión\n",
        "a cada elemento de un iterable para determinar tanto las claves como los\n",
        "valores\n",
        "'''\n",
        "\n",
        "## Expresiones de comprensión\n",
        "## Corchetes para listas y llaves para diccionarios y conjuntos\n",
        "\n",
        "## Sintaxis: [expresion for elemento in iterable]\n",
        "## Sintaxis con filtro: [expresion for elemento in iterable if condición]\n",
        "\n",
        "'''\n",
        "Desarrollar un programa en PYTHON que genere una lista con los cuadrados\n",
        "de los números del 0 al 9\n",
        "'''\n",
        "\n",
        "cuadrados = [x**2 for x in range(10)]\n",
        "print(cuadrados)\n",
        "\n",
        "'''\n",
        "Desarrollar un programa en PYTHON que genere una lista con los cuadrados\n",
        "de los números pares del 0 al 9\n",
        "'''\n",
        "\n",
        "cuadrados_pares = [x**2 for x in range(10) if x%2==0]\n",
        "print(cuadrados_pares)"
      ],
      "metadata": {
        "colab": {
          "base_uri": "https://localhost:8080/"
        },
        "id": "Z5raIr1b_kZJ",
        "outputId": "18de81ab-60f8-41cb-d14e-a385454ba9ea"
      },
      "execution_count": null,
      "outputs": [
        {
          "output_type": "stream",
          "name": "stdout",
          "text": [
            "[0, 1, 4, 9, 16, 25, 36, 49, 64, 81]\n",
            "[0, 4, 16, 36, 64]\n"
          ]
        }
      ]
    },
    {
      "cell_type": "code",
      "source": [
        "## Diccionarios\n",
        "\n",
        "personas = [(\"Carlos\",30), (\"Maria\",10), (\"Laura\",18), (\"Sofia\",39)]\n",
        "\n",
        "diccionario = {nombre:edad for nombre, edad in personas}\n",
        "print(diccionario)\n",
        "\n",
        "'''\n",
        "Desarrollar un programa en PYTHON que genere un diccionario con los nombres de\n",
        "las personas mayores de edad\n",
        "'''\n",
        "\n",
        "personas = [(\"Carlos\",30), (\"Maria\",10), (\"Laura\",18), (\"Sofia\",39)]\n",
        "\n",
        "diccionario = {nombre:edad for nombre, edad in personas if edad>=18}\n",
        "print(diccionario)"
      ],
      "metadata": {
        "colab": {
          "base_uri": "https://localhost:8080/"
        },
        "id": "N5bJZbuVBaoF",
        "outputId": "77b830cb-71fb-4ae8-f186-738b22fafaa9"
      },
      "execution_count": null,
      "outputs": [
        {
          "output_type": "stream",
          "name": "stdout",
          "text": [
            "{'Carlos': 30, 'Maria': 10, 'Laura': 18, 'Sofia': 39}\n",
            "{'Carlos': 30, 'Laura': 18, 'Sofia': 39}\n"
          ]
        }
      ]
    },
    {
      "cell_type": "markdown",
      "source": [
        "# Otros"
      ],
      "metadata": {
        "id": "XMccEzPqDqrn"
      }
    },
    {
      "cell_type": "code",
      "source": [
        "## Enumerate()\n",
        "\n",
        "frutas = [\"Manzana\", \"Pera\", \"Naranja\"]\n",
        "for i in enumerate(frutas):\n",
        "  print(i)\n",
        "\n",
        "print(\"\\n\")\n",
        "ciudades = [\"Bogotá\", \"Medellin\", \"Cali\"]\n",
        "for posicion, ciudad in enumerate(ciudades, start=1):\n",
        "  print(F\"La ciudad {ciudad} se encuentra en la posición {posicion}\")\n",
        "\n",
        "print(\"\\n\")\n",
        "enumerado = list(enumerate(ciudades, start=5))\n",
        "print(enumerado)\n"
      ],
      "metadata": {
        "colab": {
          "base_uri": "https://localhost:8080/"
        },
        "id": "7Qlla47hDspl",
        "outputId": "22bac878-e2ce-4508-8842-fe25b0d4488b"
      },
      "execution_count": null,
      "outputs": [
        {
          "output_type": "stream",
          "name": "stdout",
          "text": [
            "(0, 'Manzana')\n",
            "(1, 'Pera')\n",
            "(2, 'Naranja')\n",
            "\n",
            "\n",
            "La ciudad Bogotá se encuentra en la posición 1\n",
            "La ciudad Medellin se encuentra en la posición 2\n",
            "La ciudad Cali se encuentra en la posición 3\n",
            "\n",
            "\n",
            "[(5, 'Bogotá'), (6, 'Medellin'), (7, 'Cali')]\n"
          ]
        }
      ]
    },
    {
      "cell_type": "code",
      "source": [
        "## import\n",
        " ## 1. math: Funciones matemáticas\n",
        " ## 2. numpy:\n",
        "\n",
        "print(\"Importar un modulo completo\")\n",
        "\n",
        "import math\n",
        "\n",
        "print(f\"3*2*1 = {math.factorial(3)}\")\n",
        "print(math.sqrt(16))\n",
        "print(f\"Pi: {mt.pi}\")\n",
        "print(math.sin(math.pi/2))\n",
        "\n",
        "print(\"\\nImportar un modulo con un alias\")\n",
        "\n",
        "import math as mt\n",
        "\n",
        "print(f\"4*3*2*1 = {mt.factorial(4)}\")\n",
        "print(mt.sqrt(64))\n",
        "print(f\"Euler: {mt.e}\")\n",
        "print(mt.sin(mt.pi/2))\n",
        "\n",
        "print(\"\\nImportar solo lo necesario de un módulo\")\n",
        "\n",
        "from math import factorial, sqrt\n",
        "\n",
        "print(f\"5*4*3*2*1 = {factorial(5)}\")\n",
        "print(sqrt(4))"
      ],
      "metadata": {
        "colab": {
          "base_uri": "https://localhost:8080/"
        },
        "id": "CzJBkeosDyL-",
        "outputId": "48205980-c3d3-4a42-f30f-87bc41ac553f"
      },
      "execution_count": null,
      "outputs": [
        {
          "output_type": "stream",
          "name": "stdout",
          "text": [
            "Importar un modulo completo\n",
            "3*2*1 = 6\n",
            "4.0\n",
            "Pi: 3.141592653589793\n",
            "1.0\n",
            "\n",
            "Importar un modulo con un alias\n",
            "4*3*2*1 = 24\n",
            "8.0\n",
            "Euler: 2.718281828459045\n",
            "1.0\n",
            "\n",
            "Importar solo lo necesario de un módulo\n",
            "5*4*3*2*1 = 120\n",
            "2.0\n"
          ]
        }
      ]
    },
    {
      "cell_type": "code",
      "source": [
        "## método random\n",
        "\n",
        "import random as rd\n",
        "\n",
        "print(rd.random())\n",
        "print(rd.randint(1,10))\n",
        "\n",
        "#randrange(start, stop, step)\n",
        "print(rd.randrange(0,10,2))\n",
        "\n"
      ],
      "metadata": {
        "colab": {
          "base_uri": "https://localhost:8080/"
        },
        "id": "mN-lTME0Fzwc",
        "outputId": "074d0b4f-7db1-4b6c-a12c-3cdde8313892"
      },
      "execution_count": null,
      "outputs": [
        {
          "output_type": "stream",
          "name": "stdout",
          "text": [
            "0.9962630526951775\n",
            "9\n",
            "6\n"
          ]
        }
      ]
    },
    {
      "cell_type": "code",
      "source": [
        "## Manejo de excepciones\n",
        "\n",
        "try:\n",
        "  numero = int(input(\"Ingrese un número: \"))\n",
        "  resultado = 50//numero\n",
        "  print(f\"50//{numero} = \",resultado)\n",
        "\n",
        "except ValueError as ve:\n",
        "  print(f\"Debe ingresar un número entero: Error! {ve}\")\n",
        "\n",
        "except ZeroDivisionError as zde:\n",
        "  print(f\"No se puede dividir por cero: Error! {zde}\")\n",
        "\n",
        "except Exception as e:\n",
        "  print(f\"Error! {e}\")\n",
        "\n",
        "else:\n",
        "  print(\"No hubo errores\")\n",
        "\n",
        "finally:\n",
        "  print(\"Fin del programa\")"
      ],
      "metadata": {
        "colab": {
          "base_uri": "https://localhost:8080/"
        },
        "id": "JP4N9SpAIl3D",
        "outputId": "16e04c04-ae9c-4a56-b7ab-fd87c7e288dc"
      },
      "execution_count": null,
      "outputs": [
        {
          "output_type": "stream",
          "name": "stdout",
          "text": [
            "Ingrese un número: 0\n",
            "No se puede dividir por cero: Error! integer division or modulo by zero\n"
          ]
        }
      ]
    },
    {
      "cell_type": "code",
      "source": [
        "try:\n",
        "  numero = int(input(\"Ingrese un número: \"))\n",
        "  resultado = 50//numero\n",
        "  print(f\"50//{numero} = \",resultado)\n",
        "\n",
        "except Exception as e:\n",
        "  print(f\"Error! {e}\")"
      ],
      "metadata": {
        "colab": {
          "base_uri": "https://localhost:8080/"
        },
        "id": "oHC5kCtoJ8iF",
        "outputId": "2b1be4a2-cf9e-44e0-bdac-aa34132931d7"
      },
      "execution_count": null,
      "outputs": [
        {
          "output_type": "stream",
          "name": "stdout",
          "text": [
            "Ingrese un número: hol\n",
            "Error! invalid literal for int() with base 10: 'hol'\n"
          ]
        }
      ]
    },
    {
      "cell_type": "markdown",
      "source": [
        "# Funciones"
      ],
      "metadata": {
        "id": "uUoBnWZapRPk"
      }
    },
    {
      "cell_type": "code",
      "source": [
        "def suma(a,b):\n",
        "  return a+b\n",
        "suma(19,3)"
      ],
      "metadata": {
        "colab": {
          "base_uri": "https://localhost:8080/"
        },
        "id": "ZoB63EohpXC0",
        "outputId": "b0e6eff4-fcc9-4f56-99a5-9f894a4eeb32"
      },
      "execution_count": null,
      "outputs": [
        {
          "output_type": "execute_result",
          "data": {
            "text/plain": [
              "22"
            ]
          },
          "metadata": {},
          "execution_count": 2
        }
      ]
    },
    {
      "cell_type": "code",
      "source": [
        "def buscar_palabra(lista, subcadena):\n",
        "  return [ i for i in lista if subcadena in i]\n",
        "\n",
        "palabras = [\n",
        "    \"Hola\", \"Pato\", \"Mía\", \"Pera\", \"Este\"\n",
        "]\n",
        "subcadena = \"o\"\n",
        "\n",
        "print(f\"Palabras que contienen la letra {subcadena}: {buscar_palabra(palabras, subcadena)}\")"
      ],
      "metadata": {
        "colab": {
          "base_uri": "https://localhost:8080/"
        },
        "id": "yv44hv_CpeJh",
        "outputId": "c867df20-1e88-4bc4-8c88-8faa1627b292"
      },
      "execution_count": null,
      "outputs": [
        {
          "output_type": "stream",
          "name": "stdout",
          "text": [
            "Palabras que contienen la letra o: ['Hola', 'Pato']\n"
          ]
        }
      ]
    },
    {
      "cell_type": "code",
      "source": [
        "# Funciones recursivas\n",
        "\n",
        "def factorial(numero):\n",
        "  if numero == 0:\n",
        "    return 1\n",
        "  else:\n",
        "    return numero * factorial(numero-1)\n",
        "\n",
        "factorial(10)"
      ],
      "metadata": {
        "colab": {
          "base_uri": "https://localhost:8080/"
        },
        "id": "GRq8lwlTqNDY",
        "outputId": "3c9a1e84-1e31-442e-e3da-f75e24ebbe88"
      },
      "execution_count": null,
      "outputs": [
        {
          "output_type": "execute_result",
          "data": {
            "text/plain": [
              "3628800"
            ]
          },
          "metadata": {},
          "execution_count": 8
        }
      ]
    },
    {
      "cell_type": "code",
      "source": [
        "class ValorNegativo(Exception):\n",
        "  pass\n",
        "\n",
        "def dividir(a,b):\n",
        "  if b == 0:\n",
        "    raise ZeroDivisionError(\"División entre cero\")\n",
        "  elif a < 0 or b < 0:\n",
        "    raise ValorNegativo(\"Los valores negativos no están permitidos\")\n",
        "  return a/b\n",
        "\n",
        "try:\n",
        "  resultado = dividir(10,0)\n",
        "except ZeroDivisionError as e:\n",
        "  print (e)\n",
        "except ValorNegativo as e:\n",
        "  print(e)"
      ],
      "metadata": {
        "colab": {
          "base_uri": "https://localhost:8080/"
        },
        "id": "iiQaRsBuqn_h",
        "outputId": "590daf12-7bc9-48b6-8150-663d14b94151"
      },
      "execution_count": null,
      "outputs": [
        {
          "output_type": "stream",
          "name": "stdout",
          "text": [
            "División entre cero\n"
          ]
        }
      ]
    },
    {
      "cell_type": "code",
      "source": [
        "class Persona:\n",
        "  def __init__(self, nombre, edad):\n",
        "    self.nombre = nombre\n",
        "    self.edad = edad\n",
        "  def presentarse(self):\n",
        "    print(f\"Hola mi nombre es {self.nombre} y tengo {self.edad} años\")"
      ],
      "metadata": {
        "id": "8GeYHyPIs15M"
      },
      "execution_count": null,
      "outputs": []
    },
    {
      "cell_type": "code",
      "source": [
        "individuo = Persona(\"Domingo\", 23)"
      ],
      "metadata": {
        "id": "augkbCiMuH6w"
      },
      "execution_count": null,
      "outputs": []
    },
    {
      "cell_type": "code",
      "source": [
        "individuo.presentarse()"
      ],
      "metadata": {
        "colab": {
          "base_uri": "https://localhost:8080/"
        },
        "id": "yU_G0YNDuMnF",
        "outputId": "e912d471-9bab-49ac-c73c-6782db142781"
      },
      "execution_count": null,
      "outputs": [
        {
          "output_type": "stream",
          "name": "stdout",
          "text": [
            "Hola mi nombre es Domingo y tengo 23 años\n"
          ]
        }
      ]
    },
    {
      "cell_type": "markdown",
      "source": [
        "**Herencia**"
      ],
      "metadata": {
        "id": "j14_kaPdvIFP"
      }
    },
    {
      "cell_type": "code",
      "source": [
        "class Empleado(Persona):\n",
        "  def __init__(self, nombre, edad, salario):\n",
        "    super().__init__(nombre, edad)\n",
        "    self.salario = salario\n",
        "  def mostrar_salario(self):\n",
        "    print(f\"Mi salario es {self.salario} USD\")"
      ],
      "metadata": {
        "id": "GmTDa-Ncuw7l"
      },
      "execution_count": null,
      "outputs": []
    },
    {
      "cell_type": "code",
      "source": [
        "empleado = Empleado(\"Brenda\", 25, 50.0)\n",
        "empleado.presentarse()\n",
        "empleado.mostrar_salario()"
      ],
      "metadata": {
        "colab": {
          "base_uri": "https://localhost:8080/"
        },
        "id": "6MItpZ_nvpo7",
        "outputId": "0e702c9b-9bc2-439d-e5ef-3cd533d574e7"
      },
      "execution_count": null,
      "outputs": [
        {
          "output_type": "stream",
          "name": "stdout",
          "text": [
            "Hola mi nombre es Brenda y tengo 25 años\n",
            "Mi salario es 50.0 USD\n"
          ]
        }
      ]
    },
    {
      "cell_type": "code",
      "source": [],
      "metadata": {
        "id": "7pQHQl1svxOX"
      },
      "execution_count": null,
      "outputs": []
    }
  ]
}